{
  "nbformat": 4,
  "nbformat_minor": 0,
  "metadata": {
    "kernelspec": {
      "display_name": "Python 3",
      "language": "python",
      "name": "python3"
    },
    "language_info": {
      "codemirror_mode": {
        "name": "ipython",
        "version": 3
      },
      "file_extension": ".py",
      "mimetype": "text/x-python",
      "name": "python",
      "nbconvert_exporter": "python",
      "pygments_lexer": "ipython3",
      "version": "3.7.6"
    },
    "toc": {
      "base_numbering": 1,
      "nav_menu": {},
      "number_sections": true,
      "sideBar": true,
      "skip_h1_title": false,
      "title_cell": "Table of Contents",
      "title_sidebar": "Contents",
      "toc_cell": false,
      "toc_position": {},
      "toc_section_display": true,
      "toc_window_display": false
    },
    "colab": {
      "name": "Big Cats1.ipynb",
      "provenance": [],
      "collapsed_sections": [],
      "include_colab_link": true
    },
    "accelerator": "GPU"
  },
  "cells": [
    {
      "cell_type": "markdown",
      "metadata": {
        "id": "view-in-github",
        "colab_type": "text"
      },
      "source": [
        "<a href=\"https://colab.research.google.com/github/TyroneNorth/Data-Science/blob/master/Big_Cats.ipynb\" target=\"_parent\"><img src=\"https://colab.research.google.com/assets/colab-badge.svg\" alt=\"Open In Colab\"/></a>"
      ]
    },
    {
      "cell_type": "markdown",
      "metadata": {
        "id": "Y73gTVmbh-j2"
      },
      "source": [
        "\n",
        "\n",
        "```\n",
        "Tyrone North\n",
        "Title: Image Recognition via Convolutional Neural Networks\n",
        "```\n",
        "\n"
      ]
    },
    {
      "cell_type": "markdown",
      "metadata": {
        "id": "jbLxfCW1BGZ7"
      },
      "source": [
        "#Motivation/Purpose\n",
        "\n",
        "Big Cats are some of the most endandered species on the planet. These ferocious predators numbers have been dwindling for decades and tracking them can be crucial to their survival if we do not wish they go extinct. This model will be trained to identify  7 of the big cats.\n",
        "\n",
        "\n",
        "Tools and Technologies:\n",
        "\n",
        "1. Tensorflow framework and tools for access to Keras and advanced tools\n",
        "2. Keras deep learning framework for designing and training a model\n",
        "3. Convolutional Neural Netowrks "
      ]
    },
    {
      "cell_type": "markdown",
      "metadata": {
        "id": "e14IGv3mkcZR"
      },
      "source": [
        "#What are Covnets?\n",
        "Convolutional Neural Networks is a neural network architecture that starts with a convolutional layer with the goal of extracting common patterns from training instances. \n",
        "Several kernal filters are applied and convolve the raw pixel values into higher level patterns.\n",
        "Taking sections of the image equal to the size of the kernel and calculating the dot product between the values in the path and those in the kernel matrix\n",
        "The kernal is then slid across the entire image convolving the image as it goes\n",
        "The convolutional layer is followed by a non-linear activation function. The output is passed along to the pooling layer where the max or the avg of the convolved kernel. \n",
        "Big models include many pooling and convolutional layers"
      ]
    },
    {
      "cell_type": "code",
      "metadata": {
        "id": "S6LRmgdWmSef"
      },
      "source": [
        "#imports\n",
        "\n",
        "import os, shutil\n",
        "import tensorflow as tf\n",
        "from tensorflow.keras.layers import Flatten, Dense, MaxPooling2D, Conv2D, Dropout \n",
        "from tensorflow.keras.optimizers import RMSprop \n",
        "from tensorflow.keras.models import Sequential \n",
        "from tensorflow.keras.preprocessing import image\n",
        "from tensorflow.keras.preprocessing.image import ImageDataGenerator\n",
        "from tensorflow.keras import models\n",
        "from tensorflow.keras import callbacks\n",
        "import numpy as np\n",
        "import matplotlib.pyplot as plt"
      ],
      "execution_count": null,
      "outputs": []
    },
    {
      "cell_type": "code",
      "metadata": {
        "id": "n5QPC_XsAuMS",
        "colab": {
          "base_uri": "https://localhost:8080/"
        },
        "outputId": "13def231-1d52-462f-f097-6fbbbf3276c3"
      },
      "source": [
        "from google.colab import drive\n",
        "drive.mount('/content/drive')"
      ],
      "execution_count": null,
      "outputs": [
        {
          "output_type": "stream",
          "text": [
            "Mounted at /content/drive\n"
          ],
          "name": "stdout"
        }
      ]
    },
    {
      "cell_type": "code",
      "metadata": {
        "id": "pNeJbsc6mSej"
      },
      "source": [
        "#create subfolders for training, testing, and val;idation sets\n",
        "\n",
        "\n",
        "original_dataset_dir = '/content/drive/My Drive/Grad School/COSC 6300 -  Programming for Data Science/Final Project/Big Cats'\n",
        "\n",
        "base_dir = '/content/drive/My Drive/Grad School/COSC 6300 -  Programming for Data Science/Final Project/Big Cats'\n",
        "\n",
        "train_dir = '/content/drive/My Drive/Grad School/COSC 6300 -  Programming for Data Science/Final Project/Big Cats/Train'\n",
        "\n",
        "validation_dir = '/content/drive/My Drive/Grad School/COSC 6300 -  Programming for Data Science/Final Project/Big Cats/Validation'\n",
        "\n",
        "test_dir = '/content/drive/My Drive/Grad School/COSC 6300 -  Programming for Data Science/Final Project/Big Cats/Test'\n",
        "\n",
        "cheetah_train_dir = '/content/drive/My Drive/Documents/Grad School/COSC 6300 -  Programming for Data Science/Final Project/Big Cats/Train/Cheetah'\n",
        "\n",
        "cheetah_test_dir = '/content/drive/My Drive/Documents/Grad School/COSC 6300 -  Programming for Data Science/Final Project/Big Cats/Test/Cheetah'\n",
        "\n",
        "cheetah_validation_dir = '/content/drive/My Drive/Documents/Grad School/COSC 6300 -  Programming for Data Science/Final Project/Big Cats/Validation/Cheetah'\n",
        "\n",
        "cougar_train_dir = '/content/drive/My Drive/Documents/Grad School/COSC 6300 -  Programming for Data Science/Final Project/Big Cats/Train/Cougar'\n",
        "\n",
        "cougar_test_dir = '/content/drive/My Drive/Documents/Grad School/COSC 6300 -  Programming for Data Science/Final Project/Big Cats/Test/Cougar'\n",
        "\n",
        "cougar_validation_dir = '/content/drive/My Drive/Documents/Grad School/COSC 6300 -  Programming for Data Science/Final Project/Big Cats/Train/Cougar'\n",
        "\n",
        "jaguar_train_dir = '/content/drive/My Drive/Documents/Grad School/COSC 6300 -  Programming for Data Science/Final Project/Big Cats/Train/Jaguars'\n",
        "\n",
        "jaguar_test_dir = '/content/drive/My Drive/Documents/Grad School/COSC 6300 -  Programming for Data Science/Final Project/Big Cats/Test/Jaguars'\n",
        "\n",
        "jaguar_validation_dir = '/content/drive/My Drive/Documents/Grad School/COSC 6300 -  Programming for Data Science/Final Project/Big Cats/Validation/Jaguars'\n",
        "\n",
        "leopard_train_dir = '/content/drive/My Drive/Documents/Grad School/COSC 6300 -  Programming for Data Science/Final Project/Big Cats/Train/Leopard'\n",
        "\n",
        "leopard_test_dir = '/content/drive/My Drive/Documents/Grad School/COSC 6300 -  Programming for Data Science/Final Project/Big Cats/Test/Leopard'\n",
        "\n",
        "leopard_validation_dir = '/content/drive/My Drive/Documents/Grad School/COSC 6300 -  Programming for Data Science/Final Project/Big Cats/Train/Leopard'\n",
        "\n",
        "lions_train_dir = '/content/drive/My Drive/Documents/Grad School/COSC 6300 -  Programming for Data Science/Final Project/Big Cats/Train/Lions'\n",
        "\n",
        "lions_test_dir = '/content/drive/My Drive/Documents/Grad School/COSC 6300 -  Programming for Data Science/Final Project/Big Cats/Test/Lions'\n",
        "\n",
        "lions_validation_dir = '/content/drive/My Drive/Documents/Grad School/COSC 6300 -  Programming for Data Science/Final Project/Big Cats/Train/Lions'\n",
        "\n",
        "lynx_train_dir = '/content/drive/My Drive/Documents/Grad School/COSC 6300 -  Programming for Data Science/Final Project/Big Cats/Train/Lynx'\n",
        "\n",
        "lynx_test_dir = '/content/drive/My Drive/Documents/Grad School/COSC 6300 -  Programming for Data Science/Final Project/Big Cats/Test/Lynx'\n",
        "\n",
        "lynx_validation_dir = '/content/drive/My Drive/Documents/Grad School/COSC 6300 -  Programming for Data Science/Final Project/Big Cats/Train/Lynx'\n",
        "\n",
        "tigers_train_dir = '/content/drive/My Drive/Documents/Grad School/COSC 6300 -  Programming for Data Science/Final Project/Big Cats/Train/Tigers'\n",
        "\n",
        "tigers_test_dir = '/content/drive/My Drive/Documents/Grad School/COSC 6300 -  Programming for Data Science/Final Project/Big Cats/Test/Tigers'\n",
        "\n",
        "tigers_validation_dir = '/content/drive/My Drive/Documents/Grad School/COSC 6300 -  Programming for Data Science/Final Project/Big Cats/Train/Tigers'\n"
      ],
      "execution_count": null,
      "outputs": []
    },
    {
      "cell_type": "code",
      "metadata": {
        "scrolled": true,
        "id": "-Ev2CyO7mSel",
        "colab": {
          "base_uri": "https://localhost:8080/"
        },
        "outputId": "21bfbb4c-69ec-44b9-9f4d-435d3ae1fffa"
      },
      "source": [
        "#Number of images per training set\n",
        "\n",
        "print(f'total training cheetah images:', len(os.listdir(cheetah_train_dir)), '\\n',\n",
        "f'total training cougar images:', len(os.listdir(cougar_train_dir)), '\\n',\n",
        "f'total training jaguar images:', len(os.listdir(jaguar_train_dir)), '\\n',\n",
        "f'total training leopard images:', len(os.listdir(leopard_train_dir)), '\\n',\n",
        "f'total training lions images:', len(os.listdir(lions_train_dir)), '\\n',\n",
        "f'total training lynx images:', len(os.listdir(lynx_train_dir)), '\\n'\n",
        "      )"
      ],
      "execution_count": null,
      "outputs": [
        {
          "output_type": "stream",
          "text": [
            "total training cheetah images: 627 \n",
            " total training cougar images: 358 \n",
            " total training jaguar images: 665 \n",
            " total training leopard images: 211 \n",
            " total training lions images: 210 \n",
            " total training lynx images: 790 \n",
            "\n"
          ],
          "name": "stdout"
        }
      ]
    },
    {
      "cell_type": "markdown",
      "metadata": {
        "id": "sTu453F7gDba"
      },
      "source": [
        "#Defining the model blueprint"
      ]
    },
    {
      "cell_type": "code",
      "metadata": {
        "id": "E2L12TLavVl5",
        "colab": {
          "base_uri": "https://localhost:8080/"
        },
        "outputId": "5260d219-4ae4-4e9a-a8df-8fd4a5165dee"
      },
      "source": [
        "#model blueprint, summary statistics, 1.1 million parameters\n",
        "\n",
        "model_blueprint = Sequential()\n",
        "\n",
        "model_blueprint.add(Conv2D(32,\n",
        "                  kernel_size = (3, 3),\n",
        "                  activation = 'relu', #rectified linear unit, zeroes out negative values\n",
        "                  input_shape = (150, 150, 3)))\n",
        "model_blueprint.add(Conv2D(64, kernel_size = (3, 3), activation = 'relu'))\n",
        "model_blueprint.add(MaxPooling2D(pool_size = (2,2), strides = (2,2)))\n",
        "\n",
        "model_blueprint.add(Conv2D(64, kernel_size = (3, 3), activation = 'relu'))\n",
        "model_blueprint.add(Conv2D(64, kernel_size = (3, 3), activation = 'relu'))\n",
        "model_blueprint.add(MaxPooling2D(pool_size = (2,2)))\n",
        "\n",
        "model_blueprint.add(Conv2D(128, kernel_size = (3, 3), activation = 'relu'))\n",
        "model_blueprint.add(Conv2D(128, kernel_size = (3, 3), activation = 'relu'))\n",
        "model_blueprint.add(Conv2D(128, kernel_size = (3, 3), activation = 'relu'))\n",
        "model_blueprint.add(MaxPooling2D(pool_size = (2,2)))\n",
        "  \n",
        "model_blueprint.add(Conv2D(64, kernel_size = (3, 3), activation = 'relu'))\n",
        "model_blueprint.add(Conv2D(64, kernel_size = (3, 3), activation = 'relu'))\n",
        "model_blueprint.add(Conv2D(64, kernel_size = (3, 3), activation = 'relu'))\n",
        "model_blueprint.add(MaxPooling2D(pool_size = (2,2)))\n",
        "\n",
        "model_blueprint.add(Flatten())\n",
        "model_blueprint.add(Dense(512, activation = 'relu'))\n",
        "model_blueprint.add(Dense(7, activation = 'softmax')) #Returns an array of 7 probability scores\n",
        "\n",
        "model_blueprint.summary()"
      ],
      "execution_count": null,
      "outputs": [
        {
          "output_type": "stream",
          "text": [
            "Model: \"sequential\"\n",
            "_________________________________________________________________\n",
            "Layer (type)                 Output Shape              Param #   \n",
            "=================================================================\n",
            "conv2d (Conv2D)              (None, 148, 148, 32)      896       \n",
            "_________________________________________________________________\n",
            "conv2d_1 (Conv2D)            (None, 146, 146, 64)      18496     \n",
            "_________________________________________________________________\n",
            "max_pooling2d (MaxPooling2D) (None, 73, 73, 64)        0         \n",
            "_________________________________________________________________\n",
            "conv2d_2 (Conv2D)            (None, 71, 71, 64)        36928     \n",
            "_________________________________________________________________\n",
            "conv2d_3 (Conv2D)            (None, 69, 69, 64)        36928     \n",
            "_________________________________________________________________\n",
            "max_pooling2d_1 (MaxPooling2 (None, 34, 34, 64)        0         \n",
            "_________________________________________________________________\n",
            "conv2d_4 (Conv2D)            (None, 32, 32, 128)       73856     \n",
            "_________________________________________________________________\n",
            "conv2d_5 (Conv2D)            (None, 30, 30, 128)       147584    \n",
            "_________________________________________________________________\n",
            "conv2d_6 (Conv2D)            (None, 28, 28, 128)       147584    \n",
            "_________________________________________________________________\n",
            "max_pooling2d_2 (MaxPooling2 (None, 14, 14, 128)       0         \n",
            "_________________________________________________________________\n",
            "conv2d_7 (Conv2D)            (None, 12, 12, 64)        73792     \n",
            "_________________________________________________________________\n",
            "conv2d_8 (Conv2D)            (None, 10, 10, 64)        36928     \n",
            "_________________________________________________________________\n",
            "conv2d_9 (Conv2D)            (None, 8, 8, 64)          36928     \n",
            "_________________________________________________________________\n",
            "max_pooling2d_3 (MaxPooling2 (None, 4, 4, 64)          0         \n",
            "_________________________________________________________________\n",
            "flatten (Flatten)            (None, 1024)              0         \n",
            "_________________________________________________________________\n",
            "dense (Dense)                (None, 512)               524800    \n",
            "_________________________________________________________________\n",
            "dense_1 (Dense)              (None, 7)                 3591      \n",
            "=================================================================\n",
            "Total params: 1,138,311\n",
            "Trainable params: 1,138,311\n",
            "Non-trainable params: 0\n",
            "_________________________________________________________________\n"
          ],
          "name": "stdout"
        }
      ]
    },
    {
      "cell_type": "code",
      "metadata": {
        "id": "UShLdIrUmSeq"
      },
      "source": [
        "#defining convolutional neural network  \n",
        "\n",
        "RMS = RMSprop(lr=1e-4) #optimizer, updates the network with data based on optimizer and loss function\n",
        "\n",
        "def convolutional_model(model_name = str):\n",
        "  '''Defines a convolutional nueral network.\n",
        "  Takes model name and returns pre-configured network.'''\n",
        "  model_name = Sequential()\n",
        "\n",
        "\n",
        "\n",
        "  model_name.add(Conv2D(32,\n",
        "                  kernel_size = (3, 3),\n",
        "                  activation = 'relu',\n",
        "                  input_shape = (150, 150, 3)))\n",
        "  model_name.add(Conv2D(64, kernel_size = (3, 3), activation = 'relu'))\n",
        "  model_name.add(MaxPooling2D(pool_size = (2,2), strides = (2,2)))\n",
        "\n",
        "  model_name.add(Conv2D(64, kernel_size = (3, 3), activation = 'relu'))\n",
        "  model_name.add(Conv2D(64, kernel_size = (3, 3), activation = 'relu'))\n",
        "  model_name.add(MaxPooling2D(pool_size = (2,2)))\n",
        "\n",
        "  model_name.add(Conv2D(128, kernel_size = (3, 3), activation = 'relu'))\n",
        "  model_name.add(Conv2D(128, kernel_size = (3, 3), activation = 'relu'))\n",
        "  model_name.add(Conv2D(128, kernel_size = (3, 3), activation = 'relu'))\n",
        "  model_name.add(MaxPooling2D(pool_size = (2,2)))\n",
        "  \n",
        "  model_name.add(Conv2D(64, kernel_size = (3, 3), activation = 'relu'))\n",
        "  model_name.add(Conv2D(64, kernel_size = (3, 3), activation = 'relu'))\n",
        "  model_name.add(Conv2D(64, kernel_size = (3, 3), activation = 'relu'))\n",
        "  model_name.add(MaxPooling2D(pool_size = (2,2)))\n",
        "\n",
        "  model_name.add(Flatten())\n",
        "  model_name.add(Dense(512, activation = 'relu'))\n",
        "  model_name.add(Dense(7, activation = 'softmax'))\n",
        "\n",
        "\n",
        "#loss function states how the network will be able to measure its performance\n",
        "  model_name.compile(optimizer = RMS, loss = 'categorical_crossentropy', metrics = ['accuracy'])\n",
        "  return model_name"
      ],
      "execution_count": null,
      "outputs": []
    },
    {
      "cell_type": "markdown",
      "metadata": {
        "id": "XrJR-L7ugMLW"
      },
      "source": [
        "#Image setup for training and testing data\n",
        "\n",
        "The keras preprocessing image module has built-in functionality for generating images into batches of preprocessed tensors"
      ]
    },
    {
      "cell_type": "code",
      "metadata": {
        "id": "7SFQeIFumSet",
        "colab": {
          "base_uri": "https://localhost:8080/"
        },
        "outputId": "e9dd2842-7b7f-4902-db1b-abf0c4ce4397"
      },
      "source": [
        "#rescales all images by 1/255\n",
        "\n",
        "def create_train_datagen():\n",
        "  '''Resizes images for training set.'''\n",
        "  train_datagen = ImageDataGenerator(rescale = 1./255)\n",
        "  return train_datagen\n",
        "\n",
        "train_datagen = create_train_datagen()\n",
        "\n",
        "def create_test_datagen():\n",
        "  '''Resizes images for test set.'''\n",
        "  test_datagen = ImageDataGenerator(rescale = 1./255)\n",
        "  return test_datagen\n",
        "\n",
        "test_datagen = create_test_datagen()\n",
        "\n",
        "\n",
        "#resizes all triaining images to 150 x 150\n",
        "def create_train_generator(batch_size = int, target_size = (int, int), class_mode =  'binary' ):\n",
        "  '''Creates image generator for feeding batches of images.'''\n",
        "  train_generator = train_datagen.flow_from_directory(\n",
        "      train_dir,\n",
        "      target_size = (150, 150),\n",
        "      batch_size = 20,\n",
        "      class_mode = 'categorical')\n",
        "  return train_generator\n",
        "\n",
        "train_generator = create_train_generator(batch_size = 20, target_size = (150,150))\n"
      ],
      "execution_count": null,
      "outputs": [
        {
          "output_type": "stream",
          "text": [
            "Found 3494 images belonging to 7 classes.\n"
          ],
          "name": "stdout"
        }
      ]
    },
    {
      "cell_type": "code",
      "metadata": {
        "id": "dhw0gUmjq0Uw",
        "colab": {
          "base_uri": "https://localhost:8080/"
        },
        "outputId": "da463846-6c3c-42e7-9152-a885836fdb63"
      },
      "source": [
        "#resizes all validation images to 150 x 150\n",
        "def create_validation_generator(batch_size = int, target_size = (int, int), class_mode = 'binary'):\n",
        "  '''Creates image generator for validation images.\n",
        "  Defines the batch size, resizes the image and sets class mode'''\n",
        "  validation_generator = test_datagen.flow_from_directory(\n",
        "      validation_dir,\n",
        "      target_size = (150, 150),\n",
        "      batch_size = 20,\n",
        "      class_mode = 'categorical')\n",
        "  return validation_generator\n",
        "\n",
        "validation_generator = create_validation_generator(20, (150,150))\n"
      ],
      "execution_count": null,
      "outputs": [
        {
          "output_type": "stream",
          "text": [
            "Found 672 images belonging to 7 classes.\n"
          ],
          "name": "stdout"
        }
      ]
    },
    {
      "cell_type": "code",
      "metadata": {
        "id": "f3R3xP9zsZ2c",
        "colab": {
          "base_uri": "https://localhost:8080/"
        },
        "outputId": "21934973-501f-4113-d8c5-85db1e55b129"
      },
      "source": [
        "#checking the shape of batches\n",
        "for data_batch, labels_batch in train_generator:\n",
        "  print('data batch shape : ', data_batch.shape, '\\n',\n",
        "        'labels batch shape : ', labels_batch.shape)\n",
        "  break"
      ],
      "execution_count": null,
      "outputs": [
        {
          "output_type": "stream",
          "text": [
            "data batch shape :  (20, 150, 150, 3) \n",
            " labels batch shape :  (20, 7)\n"
          ],
          "name": "stdout"
        }
      ]
    },
    {
      "cell_type": "code",
      "metadata": {
        "id": "kYDG_odlIWXl"
      },
      "source": [
        "#Setting up early stopping to halt the training of the model once accuracy on validation set stops improving\n",
        "#This will help prevent severe overfitting and underfitting\n",
        "#from tensorflow.keras import callbacks\n",
        "\n",
        "\n",
        "es = callbacks.EarlyStopping(monitor = 'val_loss', restore_best_weights = True, mode = 'auto', verbose = 1, patience = 10)"
      ],
      "execution_count": null,
      "outputs": []
    },
    {
      "cell_type": "code",
      "metadata": {
        "id": "mTPdSTm3N6DE"
      },
      "source": [
        "#Model fit function\n",
        "def history(model = tf.keras.models.Sequential, steps_per_epoch = int, epochs = int, validation_steps = int): #takes model and three int parameters\n",
        "  '''Creates a network object.\n",
        "  Defines the training parameters and returns model.fit object.\n",
        "  Takes keras model, steps per epoch, epochs, and validation steps'''\n",
        "  history = model.fit(train_generator,\n",
        "                      steps_per_epoch=steps_per_epoch,\n",
        "                      epochs=epochs,\n",
        "                      validation_data=validation_generator,\n",
        "                      validation_steps=validation_steps,\n",
        "                      callbacks = [es])\n",
        "  return history"
      ],
      "execution_count": null,
      "outputs": []
    },
    {
      "cell_type": "markdown",
      "metadata": {
        "id": "D16NhsL2gSym"
      },
      "source": [
        "##Training Model #1"
      ]
    },
    {
      "cell_type": "code",
      "metadata": {
        "id": "wzJGh5dPx1sB",
        "colab": {
          "base_uri": "https://localhost:8080/"
        },
        "outputId": "92725400-eb8d-42f9-a277-e162c60b555b"
      },
      "source": [
        "#fitting/training the neural network\n",
        "\n",
        "model_one = convolutional_model('baseline_model')\n",
        "\n",
        "history1 = history(model_one, 100, 50, 20)#100 = steps per epoch, 50 = epochs, 20 = validation  steps"
      ],
      "execution_count": null,
      "outputs": [
        {
          "output_type": "stream",
          "text": [
            "Epoch 1/50\n",
            "  9/100 [=>............................] - ETA: 9:54 - loss: 1.9084 - accuracy: 0.2000"
          ],
          "name": "stdout"
        },
        {
          "output_type": "stream",
          "text": [
            "/usr/local/lib/python3.6/dist-packages/PIL/TiffImagePlugin.py:788: UserWarning: Corrupt EXIF data.  Expecting to read 2 bytes but only got 0. \n",
            "  warnings.warn(str(msg))\n"
          ],
          "name": "stderr"
        },
        {
          "output_type": "stream",
          "text": [
            "100/100 [==============================] - 828s 8s/step - loss: 1.8366 - accuracy: 0.2425 - val_loss: 1.9807 - val_accuracy: 0.2050\n",
            "Epoch 2/50\n",
            "100/100 [==============================] - 332s 3s/step - loss: 1.6815 - accuracy: 0.3610 - val_loss: 1.7719 - val_accuracy: 0.2975\n",
            "Epoch 3/50\n",
            "100/100 [==============================] - 158s 2s/step - loss: 1.5428 - accuracy: 0.4183 - val_loss: 1.6881 - val_accuracy: 0.3250\n",
            "Epoch 4/50\n",
            "100/100 [==============================] - 81s 814ms/step - loss: 1.4954 - accuracy: 0.4348 - val_loss: 1.5626 - val_accuracy: 0.3650\n",
            "Epoch 5/50\n",
            "100/100 [==============================] - 43s 430ms/step - loss: 1.4131 - accuracy: 0.4700 - val_loss: 1.4985 - val_accuracy: 0.4025\n",
            "Epoch 6/50\n",
            "100/100 [==============================] - 37s 365ms/step - loss: 1.3247 - accuracy: 0.5075 - val_loss: 1.4457 - val_accuracy: 0.4275\n",
            "Epoch 7/50\n",
            "100/100 [==============================] - 29s 286ms/step - loss: 1.2749 - accuracy: 0.5145 - val_loss: 1.3904 - val_accuracy: 0.3925\n",
            "Epoch 8/50\n",
            "100/100 [==============================] - 27s 265ms/step - loss: 1.2045 - accuracy: 0.5505 - val_loss: 1.5195 - val_accuracy: 0.3750\n",
            "Epoch 9/50\n",
            "100/100 [==============================] - 26s 257ms/step - loss: 1.1647 - accuracy: 0.5767 - val_loss: 1.7731 - val_accuracy: 0.4025\n",
            "Epoch 10/50\n",
            "100/100 [==============================] - 25s 253ms/step - loss: 1.1110 - accuracy: 0.5958 - val_loss: 1.5775 - val_accuracy: 0.4325\n",
            "Epoch 11/50\n",
            "100/100 [==============================] - 25s 251ms/step - loss: 1.1162 - accuracy: 0.5913 - val_loss: 1.3759 - val_accuracy: 0.4575\n",
            "Epoch 12/50\n",
            "100/100 [==============================] - 27s 268ms/step - loss: 1.0616 - accuracy: 0.6073 - val_loss: 1.2744 - val_accuracy: 0.5050\n",
            "Epoch 13/50\n",
            "100/100 [==============================] - 25s 253ms/step - loss: 1.0409 - accuracy: 0.6128 - val_loss: 1.4138 - val_accuracy: 0.4275\n",
            "Epoch 14/50\n",
            "100/100 [==============================] - 26s 260ms/step - loss: 1.0063 - accuracy: 0.6330 - val_loss: 1.1874 - val_accuracy: 0.5200\n",
            "Epoch 15/50\n",
            "100/100 [==============================] - 26s 258ms/step - loss: 0.9608 - accuracy: 0.6434 - val_loss: 1.1931 - val_accuracy: 0.5175\n",
            "Epoch 16/50\n",
            "100/100 [==============================] - 24s 240ms/step - loss: 0.9293 - accuracy: 0.6600 - val_loss: 1.1677 - val_accuracy: 0.5100\n",
            "Epoch 17/50\n",
            "100/100 [==============================] - 26s 261ms/step - loss: 0.9160 - accuracy: 0.6565 - val_loss: 1.1881 - val_accuracy: 0.5400\n",
            "Epoch 18/50\n",
            "100/100 [==============================] - 25s 251ms/step - loss: 0.8867 - accuracy: 0.6800 - val_loss: 1.3170 - val_accuracy: 0.5075\n",
            "Epoch 19/50\n",
            "100/100 [==============================] - 24s 242ms/step - loss: 0.8876 - accuracy: 0.6730 - val_loss: 1.1900 - val_accuracy: 0.5325\n",
            "Epoch 20/50\n",
            "100/100 [==============================] - 24s 244ms/step - loss: 0.8256 - accuracy: 0.7076 - val_loss: 1.3454 - val_accuracy: 0.4675\n",
            "Epoch 21/50\n",
            "100/100 [==============================] - 24s 245ms/step - loss: 0.8122 - accuracy: 0.7065 - val_loss: 1.1968 - val_accuracy: 0.5575\n",
            "Epoch 22/50\n",
            "100/100 [==============================] - 25s 250ms/step - loss: 0.8006 - accuracy: 0.7031 - val_loss: 1.0204 - val_accuracy: 0.5975\n",
            "Epoch 23/50\n",
            "100/100 [==============================] - 25s 251ms/step - loss: 0.7716 - accuracy: 0.7215 - val_loss: 1.6325 - val_accuracy: 0.4600\n",
            "Epoch 24/50\n",
            "100/100 [==============================] - 24s 244ms/step - loss: 0.7793 - accuracy: 0.7086 - val_loss: 1.1010 - val_accuracy: 0.5625\n",
            "Epoch 25/50\n",
            "100/100 [==============================] - 25s 246ms/step - loss: 0.7198 - accuracy: 0.7322 - val_loss: 1.2931 - val_accuracy: 0.5475\n",
            "Epoch 26/50\n",
            "100/100 [==============================] - 25s 246ms/step - loss: 0.7095 - accuracy: 0.7345 - val_loss: 1.0513 - val_accuracy: 0.6050\n",
            "Epoch 27/50\n",
            "100/100 [==============================] - 24s 245ms/step - loss: 0.6909 - accuracy: 0.7402 - val_loss: 1.0531 - val_accuracy: 0.5800\n",
            "Epoch 28/50\n",
            "100/100 [==============================] - 26s 260ms/step - loss: 0.6597 - accuracy: 0.7528 - val_loss: 1.1084 - val_accuracy: 0.6025\n",
            "Epoch 29/50\n",
            "100/100 [==============================] - 24s 243ms/step - loss: 0.6652 - accuracy: 0.7528 - val_loss: 0.9920 - val_accuracy: 0.6100\n",
            "Epoch 30/50\n",
            "100/100 [==============================] - 24s 243ms/step - loss: 0.6294 - accuracy: 0.7680 - val_loss: 1.5131 - val_accuracy: 0.4925\n",
            "Epoch 31/50\n",
            "100/100 [==============================] - 23s 234ms/step - loss: 0.5864 - accuracy: 0.7864 - val_loss: 1.0985 - val_accuracy: 0.6000\n",
            "Epoch 32/50\n",
            "100/100 [==============================] - 24s 239ms/step - loss: 0.5847 - accuracy: 0.7870 - val_loss: 0.8817 - val_accuracy: 0.6850\n",
            "Epoch 33/50\n",
            "100/100 [==============================] - 27s 269ms/step - loss: 0.5560 - accuracy: 0.8029 - val_loss: 1.0261 - val_accuracy: 0.6050\n",
            "Epoch 34/50\n",
            "100/100 [==============================] - 26s 259ms/step - loss: 0.5581 - accuracy: 0.7945 - val_loss: 0.9539 - val_accuracy: 0.6200\n",
            "Epoch 35/50\n",
            "100/100 [==============================] - 23s 231ms/step - loss: 0.5241 - accuracy: 0.8164 - val_loss: 0.9235 - val_accuracy: 0.6350\n",
            "Epoch 36/50\n",
            "100/100 [==============================] - 24s 243ms/step - loss: 0.5313 - accuracy: 0.8124 - val_loss: 1.4273 - val_accuracy: 0.5575\n",
            "Epoch 37/50\n",
            "100/100 [==============================] - 24s 244ms/step - loss: 0.4995 - accuracy: 0.8250 - val_loss: 1.3728 - val_accuracy: 0.5775\n",
            "Epoch 38/50\n",
            "100/100 [==============================] - 26s 264ms/step - loss: 0.4664 - accuracy: 0.8310 - val_loss: 1.0837 - val_accuracy: 0.6350\n",
            "Epoch 39/50\n",
            "100/100 [==============================] - 26s 256ms/step - loss: 0.4596 - accuracy: 0.8480 - val_loss: 1.0450 - val_accuracy: 0.6375\n",
            "Epoch 40/50\n",
            "100/100 [==============================] - 25s 253ms/step - loss: 0.4358 - accuracy: 0.8501 - val_loss: 0.8993 - val_accuracy: 0.6750\n",
            "Epoch 41/50\n",
            "100/100 [==============================] - 24s 240ms/step - loss: 0.3827 - accuracy: 0.8611 - val_loss: 1.0500 - val_accuracy: 0.6600\n",
            "Epoch 42/50\n",
            "100/100 [==============================] - 26s 256ms/step - loss: 0.3850 - accuracy: 0.8596 - val_loss: 0.8470 - val_accuracy: 0.7150\n",
            "Epoch 43/50\n",
            "100/100 [==============================] - 23s 235ms/step - loss: 0.3523 - accuracy: 0.8660 - val_loss: 0.9539 - val_accuracy: 0.7150\n",
            "Epoch 44/50\n",
            "100/100 [==============================] - 26s 256ms/step - loss: 0.3457 - accuracy: 0.8847 - val_loss: 1.1375 - val_accuracy: 0.6550\n",
            "Epoch 45/50\n",
            "100/100 [==============================] - 24s 242ms/step - loss: 0.3126 - accuracy: 0.8872 - val_loss: 1.4483 - val_accuracy: 0.6400\n",
            "Epoch 46/50\n",
            "100/100 [==============================] - 24s 240ms/step - loss: 0.3240 - accuracy: 0.8942 - val_loss: 1.2882 - val_accuracy: 0.6450\n",
            "Epoch 47/50\n",
            "100/100 [==============================] - 25s 253ms/step - loss: 0.2885 - accuracy: 0.8987 - val_loss: 0.9665 - val_accuracy: 0.7100\n",
            "Epoch 48/50\n",
            "100/100 [==============================] - 25s 250ms/step - loss: 0.2720 - accuracy: 0.9047 - val_loss: 1.0146 - val_accuracy: 0.7100\n",
            "Epoch 49/50\n",
            "100/100 [==============================] - 24s 243ms/step - loss: 0.2477 - accuracy: 0.9147 - val_loss: 1.7273 - val_accuracy: 0.6150\n",
            "Epoch 50/50\n",
            "100/100 [==============================] - 24s 238ms/step - loss: 0.2536 - accuracy: 0.9147 - val_loss: 1.2759 - val_accuracy: 0.6675\n"
          ],
          "name": "stdout"
        }
      ]
    },
    {
      "cell_type": "code",
      "metadata": {
        "id": "nnK3bM0LyaWt"
      },
      "source": [
        "#save model for later use\n",
        "model_one.save('big_cats_pre_model.h5')"
      ],
      "execution_count": null,
      "outputs": []
    },
    {
      "cell_type": "markdown",
      "metadata": {
        "id": "Z-ctkWuoiiEV"
      },
      "source": [
        "###Accuracy and loss"
      ]
    },
    {
      "cell_type": "code",
      "metadata": {
        "id": "tM8acOiA0PL0",
        "colab": {
          "base_uri": "https://localhost:8080/",
          "height": 545
        },
        "outputId": "c2a001e3-e6f2-45a4-9606-f0ef6f6584b4"
      },
      "source": [
        "#Defining accuracy and loss graphs\n",
        "\n",
        "def acc_vloss(history_model = str, filename = str, filename2 = str):\n",
        "  '''Plots the training and validation accuracy and loss'''\n",
        "  acc = history_model.history['accuracy']\n",
        "  val_acc = history_model.history['val_accuracy']\n",
        "  loss = history_model.history['loss']\n",
        "  val_loss = history_model.history['val_loss']\n",
        "  epochs = range(1, len(acc) + 1)\n",
        "  plt.plot(epochs, acc, 'bo', label='Training acc')\n",
        "  plt.plot(epochs, val_acc, 'b', label='Validation acc')\n",
        "  plt.title('Training and validation accuracy')\n",
        "  plt.legend()\n",
        "  plt.savefig(filename2)\n",
        "  plt.figure()\n",
        "  plt.plot(epochs, loss, 'bo', label='Training loss')\n",
        "  plt.plot(epochs, val_loss, 'b', label='Validation loss')\n",
        "  plt.title('Training and validation loss')\n",
        "  plt.legend()\n",
        "  plt.savefig(filename)\n",
        "  plt.show()\n",
        "  \n",
        "acc_vloss(history1, 'first_run_acc.svg', 'first_run_loss.svg')"
      ],
      "execution_count": null,
      "outputs": [
        {
          "output_type": "display_data",
          "data": {
            "image/png": "[encoded data removed]",
            "text/plain": [
              "<Figure size 432x288 with 1 Axes>"
            ]
          },
          "metadata": {
            "tags": [],
            "needs_background": "light"
          }
        },
        {
          "output_type": "display_data",
          "data": {
            "image/png": "[encoded data removed]",
            "text/plain": [
              "<Figure size 432x288 with 1 Axes>"
            ]
          },
          "metadata": {
            "tags": [],
            "needs_background": "light"
          }
        }
      ]
    },
    {
      "cell_type": "markdown",
      "metadata": {
        "id": "pjSJRRyXvZlH"
      },
      "source": [
        "The Training accuracy continues to increase as the chart shows. It is  reasonable to assume that the accuracy is likely to increase to 100% but thanks to early stopping the model never trained that far."
      ]
    },
    {
      "cell_type": "markdown",
      "metadata": {
        "id": "D27rWYrZxJV9"
      },
      "source": [
        "Data Augmentation will help with the low image count. By transforming each image in the dataset either by rotating, or shifting, etc the image, we can essentially add variations of the imageset to increase the training image pool. This isn't new data, only remixed data seen from a different perspective. The data points will be higly correlated giving our model time training with feature sets."
      ]
    },
    {
      "cell_type": "markdown",
      "metadata": {
        "id": "mb4_1wh9ykhC"
      },
      "source": [
        "I'll also include a dropout layer to help with the overfitting"
      ]
    },
    {
      "cell_type": "markdown",
      "metadata": {
        "id": "lJgctjEgi5vw"
      },
      "source": [
        "#Defining Second Model"
      ]
    },
    {
      "cell_type": "code",
      "metadata": {
        "id": "lwI7qX0kzV79"
      },
      "source": [
        "#model is overfitting badly\n",
        "#setting up data augmentation to mitigate overfitting on small dataset\n",
        "\n",
        "datagen = ImageDataGenerator(rotation_range=40,\n",
        "                           width_shift_range=0.2,\n",
        "                           height_shift_range=0.2,\n",
        "                           shear_range=0.2,\n",
        "                           zoom_range=0.2,\n",
        "                           horizontal_flip=True,\n",
        "                           fill_mode='nearest')"
      ],
      "execution_count": null,
      "outputs": []
    },
    {
      "cell_type": "code",
      "metadata": {
        "id": "VxzOIcPw0pGO"
      },
      "source": [
        "#new convnet with dropout layer to mitigate overfitting\n",
        "\n",
        "def convolutional_dropout_model(model_name =str):\n",
        "  '''Defiines a CNN with dropout layer and returns network'''\n",
        "  model_name = Sequential()\n",
        "\n",
        "  model_name.add(Conv2D(32,\n",
        "                  kernel_size = (3, 3),\n",
        "                  activation = 'relu',\n",
        "                  input_shape = (150, 150, 3)))\n",
        "  model_name.add(Conv2D(64, kernel_size = (3, 3), activation = 'relu'))\n",
        "  model_name.add(MaxPooling2D(pool_size = (2,2), strides = (2,2)))\n",
        "\n",
        "  model_name.add(Conv2D(64, kernel_size = (3, 3), activation = 'relu'))\n",
        "  model_name.add(Conv2D(64, kernel_size = (3, 3), activation = 'relu'))\n",
        "  model_name.add(MaxPooling2D(pool_size = (2,2)))\n",
        "\n",
        "  model_name.add(Conv2D(128, kernel_size = (3, 3), activation = 'relu'))\n",
        "  model_name.add(Conv2D(128, kernel_size = (3, 3), activation = 'relu'))\n",
        "  model_name.add(Conv2D(128, kernel_size = (3, 3), activation = 'relu'))\n",
        "  model_name.add(MaxPooling2D(pool_size = (2,2)))\n",
        "  \n",
        "  model_name.add(Conv2D(64, kernel_size = (3, 3), activation = 'relu'))\n",
        "  model_name.add(Conv2D(64, kernel_size = (3, 3), activation = 'relu'))\n",
        "  model_name.add(Conv2D(64, kernel_size = (3, 3), activation = 'relu'))\n",
        "  model_name.add(MaxPooling2D(pool_size = (2,2)))\n",
        "\n",
        "  model_name.add(Flatten())\n",
        "  #Dropout rate is the fraction of the features that are zeroed out *note different implementation during test v training\n",
        "  model_name.add(Dropout(0.5)) \n",
        "  model_name.add(Dense(512, activation = 'relu'))\n",
        "  model_name.add(Dense(7, activation = 'softmax'))\n",
        "\n",
        "  model_name.compile(optimizer = RMS, loss = 'categorical_crossentropy', metrics = ['accuracy'])\n",
        "  return model_name"
      ],
      "execution_count": null,
      "outputs": []
    },
    {
      "cell_type": "code",
      "metadata": {
        "id": "5Fp_N5VT1ABK",
        "colab": {
          "base_uri": "https://localhost:8080/"
        },
        "outputId": "7f7320cc-6478-4bb0-d434-1a24c146c9e0"
      },
      "source": [
        "#Generating augmented images\n",
        "\n",
        "def create_train_datagen_aug():\n",
        "  '''Augments training images.\n",
        "  Resizes, rotates, shifts dimensions, shear, zoom, and flips images.'''\n",
        "  train_datagen_aug = ImageDataGenerator(rescale=1./255,\n",
        "                                    rotation_range=40,\n",
        "                                    width_shift_range=0.2,\n",
        "                                    height_shift_range=0.2,\n",
        "                                    shear_range=0.2,\n",
        "                                    zoom_range=0.2,\n",
        "                                    horizontal_flip=True,)\n",
        "  return train_datagen_aug\n",
        "\n",
        "train_datagen_aug = create_train_datagen_aug()\n",
        "\n",
        "test_gen =create_test_datagen()\n",
        "\n",
        "train_generator = create_train_generator(32, (150, 150))\n",
        "\n",
        "validation_generator = create_validation_generator((150,150), 32)\n",
        "\n",
        "\n"
      ],
      "execution_count": null,
      "outputs": [
        {
          "output_type": "stream",
          "text": [
            "Found 3494 images belonging to 7 classes.\n",
            "Found 672 images belonging to 7 classes.\n"
          ],
          "name": "stdout"
        }
      ]
    },
    {
      "cell_type": "markdown",
      "metadata": {
        "id": "-lViVn-Fi17q"
      },
      "source": [
        "##Training** Model 2"
      ]
    },
    {
      "cell_type": "code",
      "metadata": {
        "id": "UKxwMAl35P-q",
        "colab": {
          "base_uri": "https://localhost:8080/"
        },
        "outputId": "b4624507-11a9-48a3-df33-1bbe7e2bbf5d"
      },
      "source": [
        "model_two = convolutional_dropout_model('dropout_model')\n",
        "model_two.summary()"
      ],
      "execution_count": null,
      "outputs": [
        {
          "output_type": "stream",
          "text": [
            "Model: \"sequential_2\"\n",
            "_________________________________________________________________\n",
            "Layer (type)                 Output Shape              Param #   \n",
            "=================================================================\n",
            "conv2d_20 (Conv2D)           (None, 148, 148, 32)      896       \n",
            "_________________________________________________________________\n",
            "conv2d_21 (Conv2D)           (None, 146, 146, 64)      18496     \n",
            "_________________________________________________________________\n",
            "max_pooling2d_8 (MaxPooling2 (None, 73, 73, 64)        0         \n",
            "_________________________________________________________________\n",
            "conv2d_22 (Conv2D)           (None, 71, 71, 64)        36928     \n",
            "_________________________________________________________________\n",
            "conv2d_23 (Conv2D)           (None, 69, 69, 64)        36928     \n",
            "_________________________________________________________________\n",
            "max_pooling2d_9 (MaxPooling2 (None, 34, 34, 64)        0         \n",
            "_________________________________________________________________\n",
            "conv2d_24 (Conv2D)           (None, 32, 32, 128)       73856     \n",
            "_________________________________________________________________\n",
            "conv2d_25 (Conv2D)           (None, 30, 30, 128)       147584    \n",
            "_________________________________________________________________\n",
            "conv2d_26 (Conv2D)           (None, 28, 28, 128)       147584    \n",
            "_________________________________________________________________\n",
            "max_pooling2d_10 (MaxPooling (None, 14, 14, 128)       0         \n",
            "_________________________________________________________________\n",
            "conv2d_27 (Conv2D)           (None, 12, 12, 64)        73792     \n",
            "_________________________________________________________________\n",
            "conv2d_28 (Conv2D)           (None, 10, 10, 64)        36928     \n",
            "_________________________________________________________________\n",
            "conv2d_29 (Conv2D)           (None, 8, 8, 64)          36928     \n",
            "_________________________________________________________________\n",
            "max_pooling2d_11 (MaxPooling (None, 4, 4, 64)          0         \n",
            "_________________________________________________________________\n",
            "flatten_2 (Flatten)          (None, 1024)              0         \n",
            "_________________________________________________________________\n",
            "dropout (Dropout)            (None, 1024)              0         \n",
            "_________________________________________________________________\n",
            "dense_4 (Dense)              (None, 512)               524800    \n",
            "_________________________________________________________________\n",
            "dense_5 (Dense)              (None, 7)                 3591      \n",
            "=================================================================\n",
            "Total params: 1,138,311\n",
            "Trainable params: 1,138,311\n",
            "Non-trainable params: 0\n",
            "_________________________________________________________________\n"
          ],
          "name": "stdout"
        }
      ]
    },
    {
      "cell_type": "code",
      "metadata": {
        "id": "IwEEaU-GENDU",
        "colab": {
          "base_uri": "https://localhost:8080/"
        },
        "outputId": "2d3e9330-5a57-40dc-bb8a-10fe41f4f041"
      },
      "source": [
        "#training/fitting neural network with dropout layer\n",
        "\n",
        "\n",
        "history2 = history(model_two, 100, 100, 32)"
      ],
      "execution_count": null,
      "outputs": [
        {
          "output_type": "stream",
          "text": [
            "Epoch 1/100\n",
            " 37/100 [==========>...................] - ETA: 15s - loss: 1.8682 - accuracy: 0.1919"
          ],
          "name": "stdout"
        },
        {
          "output_type": "stream",
          "text": [
            "/usr/local/lib/python3.6/dist-packages/PIL/TiffImagePlugin.py:788: UserWarning: Corrupt EXIF data.  Expecting to read 2 bytes but only got 0. \n",
            "  warnings.warn(str(msg))\n"
          ],
          "name": "stderr"
        },
        {
          "output_type": "stream",
          "text": [
            "100/100 [==============================] - 28s 276ms/step - loss: 1.8653 - accuracy: 0.2105 - val_loss: 1.9593 - val_accuracy: 0.2125\n",
            "Epoch 2/100\n",
            "100/100 [==============================] - 26s 258ms/step - loss: 1.7173 - accuracy: 0.3250 - val_loss: 1.8639 - val_accuracy: 0.2609\n",
            "Epoch 3/100\n",
            "100/100 [==============================] - 26s 265ms/step - loss: 1.6316 - accuracy: 0.3845 - val_loss: 1.7962 - val_accuracy: 0.2891\n",
            "Epoch 4/100\n",
            "100/100 [==============================] - 26s 263ms/step - loss: 1.5475 - accuracy: 0.4077 - val_loss: 1.9220 - val_accuracy: 0.2625\n",
            "Epoch 5/100\n",
            "100/100 [==============================] - 26s 257ms/step - loss: 1.5097 - accuracy: 0.4240 - val_loss: 1.7876 - val_accuracy: 0.3422\n",
            "Epoch 6/100\n",
            "100/100 [==============================] - 26s 258ms/step - loss: 1.4187 - accuracy: 0.4809 - val_loss: 1.6031 - val_accuracy: 0.4000\n",
            "Epoch 7/100\n",
            "100/100 [==============================] - 26s 263ms/step - loss: 1.3702 - accuracy: 0.4915 - val_loss: 1.8516 - val_accuracy: 0.2969\n",
            "Epoch 8/100\n",
            "100/100 [==============================] - 26s 261ms/step - loss: 1.3213 - accuracy: 0.5170 - val_loss: 1.4309 - val_accuracy: 0.4219\n",
            "Epoch 9/100\n",
            "100/100 [==============================] - 27s 274ms/step - loss: 1.2790 - accuracy: 0.5370 - val_loss: 1.5386 - val_accuracy: 0.4141\n",
            "Epoch 10/100\n",
            "100/100 [==============================] - 27s 272ms/step - loss: 1.2248 - accuracy: 0.5550 - val_loss: 1.3833 - val_accuracy: 0.4625\n",
            "Epoch 11/100\n",
            "100/100 [==============================] - 28s 279ms/step - loss: 1.1907 - accuracy: 0.5542 - val_loss: 1.3471 - val_accuracy: 0.4859\n",
            "Epoch 12/100\n",
            "100/100 [==============================] - 28s 275ms/step - loss: 1.1525 - accuracy: 0.5883 - val_loss: 1.2870 - val_accuracy: 0.4766\n",
            "Epoch 13/100\n",
            "100/100 [==============================] - 28s 276ms/step - loss: 1.1637 - accuracy: 0.5712 - val_loss: 1.4479 - val_accuracy: 0.4172\n",
            "Epoch 14/100\n",
            "100/100 [==============================] - 26s 261ms/step - loss: 1.1371 - accuracy: 0.5822 - val_loss: 1.4957 - val_accuracy: 0.4187\n",
            "Epoch 15/100\n",
            "100/100 [==============================] - 27s 273ms/step - loss: 1.0726 - accuracy: 0.6160 - val_loss: 1.2873 - val_accuracy: 0.5125\n",
            "Epoch 16/100\n",
            "100/100 [==============================] - 26s 263ms/step - loss: 1.0222 - accuracy: 0.6239 - val_loss: 1.2536 - val_accuracy: 0.4969\n",
            "Epoch 17/100\n",
            "100/100 [==============================] - 25s 254ms/step - loss: 1.0156 - accuracy: 0.6314 - val_loss: 1.1836 - val_accuracy: 0.5203\n",
            "Epoch 18/100\n",
            "100/100 [==============================] - 26s 258ms/step - loss: 1.0012 - accuracy: 0.6440 - val_loss: 1.1170 - val_accuracy: 0.5328\n",
            "Epoch 19/100\n",
            "100/100 [==============================] - 26s 264ms/step - loss: 1.0067 - accuracy: 0.6334 - val_loss: 1.1338 - val_accuracy: 0.5437\n",
            "Epoch 20/100\n",
            "100/100 [==============================] - 26s 263ms/step - loss: 0.9501 - accuracy: 0.6545 - val_loss: 1.1829 - val_accuracy: 0.4984\n",
            "Epoch 21/100\n",
            "100/100 [==============================] - 27s 269ms/step - loss: 0.9430 - accuracy: 0.6445 - val_loss: 1.1535 - val_accuracy: 0.5250\n",
            "Epoch 22/100\n",
            "100/100 [==============================] - 27s 266ms/step - loss: 0.9058 - accuracy: 0.6680 - val_loss: 1.0113 - val_accuracy: 0.5625\n",
            "Epoch 23/100\n",
            "100/100 [==============================] - 26s 264ms/step - loss: 0.9072 - accuracy: 0.6685 - val_loss: 1.0328 - val_accuracy: 0.5469\n",
            "Epoch 24/100\n",
            "100/100 [==============================] - 26s 258ms/step - loss: 0.8816 - accuracy: 0.6710 - val_loss: 0.9869 - val_accuracy: 0.5641\n",
            "Epoch 25/100\n",
            "100/100 [==============================] - 27s 275ms/step - loss: 0.8842 - accuracy: 0.6795 - val_loss: 1.0743 - val_accuracy: 0.5719\n",
            "Epoch 26/100\n",
            "100/100 [==============================] - 27s 273ms/step - loss: 0.8556 - accuracy: 0.6790 - val_loss: 0.9515 - val_accuracy: 0.5828\n",
            "Epoch 27/100\n",
            "100/100 [==============================] - 27s 273ms/step - loss: 0.8343 - accuracy: 0.6820 - val_loss: 0.9610 - val_accuracy: 0.5719\n",
            "Epoch 28/100\n",
            "100/100 [==============================] - 28s 275ms/step - loss: 0.8063 - accuracy: 0.7030 - val_loss: 1.1288 - val_accuracy: 0.5312\n",
            "Epoch 29/100\n",
            "100/100 [==============================] - 26s 256ms/step - loss: 0.7885 - accuracy: 0.7030 - val_loss: 1.0073 - val_accuracy: 0.5781\n",
            "Epoch 30/100\n",
            "100/100 [==============================] - 25s 250ms/step - loss: 0.7793 - accuracy: 0.7036 - val_loss: 0.9715 - val_accuracy: 0.5891\n",
            "Epoch 31/100\n",
            "100/100 [==============================] - 26s 264ms/step - loss: 0.7657 - accuracy: 0.7126 - val_loss: 0.8688 - val_accuracy: 0.6172\n",
            "Epoch 32/100\n",
            "100/100 [==============================] - 27s 274ms/step - loss: 0.7561 - accuracy: 0.7190 - val_loss: 0.9962 - val_accuracy: 0.5688\n",
            "Epoch 33/100\n",
            "100/100 [==============================] - 27s 267ms/step - loss: 0.7360 - accuracy: 0.7317 - val_loss: 1.2695 - val_accuracy: 0.5016\n",
            "Epoch 34/100\n",
            "100/100 [==============================] - 27s 268ms/step - loss: 0.7163 - accuracy: 0.7355 - val_loss: 0.8698 - val_accuracy: 0.6359\n",
            "Epoch 35/100\n",
            "100/100 [==============================] - 27s 266ms/step - loss: 0.6927 - accuracy: 0.7380 - val_loss: 0.9629 - val_accuracy: 0.5938\n",
            "Epoch 36/100\n",
            "100/100 [==============================] - 28s 280ms/step - loss: 0.6664 - accuracy: 0.7452 - val_loss: 0.8764 - val_accuracy: 0.6187\n",
            "Epoch 37/100\n",
            "100/100 [==============================] - 28s 276ms/step - loss: 0.6536 - accuracy: 0.7635 - val_loss: 1.0943 - val_accuracy: 0.6016\n",
            "Epoch 38/100\n",
            "100/100 [==============================] - 27s 266ms/step - loss: 0.6963 - accuracy: 0.7460 - val_loss: 0.8855 - val_accuracy: 0.6391\n",
            "Epoch 39/100\n",
            "100/100 [==============================] - 26s 255ms/step - loss: 0.6393 - accuracy: 0.7663 - val_loss: 0.7506 - val_accuracy: 0.6922\n",
            "Epoch 40/100\n",
            "100/100 [==============================] - 27s 273ms/step - loss: 0.6201 - accuracy: 0.7660 - val_loss: 0.8690 - val_accuracy: 0.6562\n",
            "Epoch 41/100\n",
            "100/100 [==============================] - 26s 255ms/step - loss: 0.6270 - accuracy: 0.7663 - val_loss: 0.7811 - val_accuracy: 0.6875\n",
            "Epoch 42/100\n",
            "100/100 [==============================] - 25s 249ms/step - loss: 0.6418 - accuracy: 0.7713 - val_loss: 0.9298 - val_accuracy: 0.6344\n",
            "Epoch 43/100\n",
            "100/100 [==============================] - 28s 278ms/step - loss: 0.6268 - accuracy: 0.7839 - val_loss: 0.7782 - val_accuracy: 0.6687\n",
            "Epoch 44/100\n",
            "100/100 [==============================] - 26s 264ms/step - loss: 0.5798 - accuracy: 0.7880 - val_loss: 0.7988 - val_accuracy: 0.6344\n",
            "Epoch 45/100\n",
            "100/100 [==============================] - 26s 264ms/step - loss: 0.5844 - accuracy: 0.7845 - val_loss: 0.7498 - val_accuracy: 0.6984\n",
            "Epoch 46/100\n",
            "100/100 [==============================] - 27s 274ms/step - loss: 0.5709 - accuracy: 0.7894 - val_loss: 0.8042 - val_accuracy: 0.6547\n",
            "Epoch 47/100\n",
            "100/100 [==============================] - 27s 271ms/step - loss: 0.5565 - accuracy: 0.8009 - val_loss: 0.8594 - val_accuracy: 0.6906\n",
            "Epoch 48/100\n",
            "100/100 [==============================] - 25s 251ms/step - loss: 0.5457 - accuracy: 0.7969 - val_loss: 0.8144 - val_accuracy: 0.6641\n",
            "Epoch 49/100\n",
            "100/100 [==============================] - 27s 268ms/step - loss: 0.5485 - accuracy: 0.8019 - val_loss: 0.7553 - val_accuracy: 0.6953\n",
            "Epoch 50/100\n",
            "100/100 [==============================] - 25s 255ms/step - loss: 0.5407 - accuracy: 0.8069 - val_loss: 1.0145 - val_accuracy: 0.6047\n",
            "Epoch 51/100\n",
            "100/100 [==============================] - 27s 266ms/step - loss: 0.5393 - accuracy: 0.8039 - val_loss: 0.8615 - val_accuracy: 0.6562\n",
            "Epoch 52/100\n",
            "100/100 [==============================] - 25s 249ms/step - loss: 0.5220 - accuracy: 0.8114 - val_loss: 0.7135 - val_accuracy: 0.7016\n",
            "Epoch 53/100\n",
            "100/100 [==============================] - 26s 264ms/step - loss: 0.5151 - accuracy: 0.8205 - val_loss: 0.7360 - val_accuracy: 0.6891\n",
            "Epoch 54/100\n",
            "100/100 [==============================] - 26s 260ms/step - loss: 0.4927 - accuracy: 0.8245 - val_loss: 1.0385 - val_accuracy: 0.5969\n",
            "Epoch 55/100\n",
            "100/100 [==============================] - 28s 276ms/step - loss: 0.4914 - accuracy: 0.8220 - val_loss: 0.8334 - val_accuracy: 0.6562\n",
            "Epoch 56/100\n",
            "100/100 [==============================] - 27s 267ms/step - loss: 0.4886 - accuracy: 0.8200 - val_loss: 0.8286 - val_accuracy: 0.6781\n",
            "Epoch 57/100\n",
            "100/100 [==============================] - 26s 261ms/step - loss: 0.5116 - accuracy: 0.8119 - val_loss: 0.6438 - val_accuracy: 0.7437\n",
            "Epoch 58/100\n",
            "100/100 [==============================] - 26s 257ms/step - loss: 0.4575 - accuracy: 0.8230 - val_loss: 0.6150 - val_accuracy: 0.7500\n",
            "Epoch 59/100\n",
            "100/100 [==============================] - 26s 264ms/step - loss: 0.4577 - accuracy: 0.8325 - val_loss: 0.8545 - val_accuracy: 0.7156\n",
            "Epoch 60/100\n",
            "100/100 [==============================] - 26s 258ms/step - loss: 0.4519 - accuracy: 0.8350 - val_loss: 0.9060 - val_accuracy: 0.6984\n",
            "Epoch 61/100\n",
            "100/100 [==============================] - 27s 271ms/step - loss: 0.4460 - accuracy: 0.8395 - val_loss: 0.9475 - val_accuracy: 0.6656\n",
            "Epoch 62/100\n",
            "100/100 [==============================] - 27s 268ms/step - loss: 0.4514 - accuracy: 0.8445 - val_loss: 1.0415 - val_accuracy: 0.6531\n",
            "Epoch 63/100\n",
            "100/100 [==============================] - 27s 267ms/step - loss: 0.4425 - accuracy: 0.8335 - val_loss: 0.7154 - val_accuracy: 0.7312\n",
            "Epoch 64/100\n",
            "100/100 [==============================] - 26s 258ms/step - loss: 0.4546 - accuracy: 0.8435 - val_loss: 0.6593 - val_accuracy: 0.7875\n",
            "Epoch 65/100\n",
            "100/100 [==============================] - 26s 258ms/step - loss: 0.3969 - accuracy: 0.8596 - val_loss: 0.7774 - val_accuracy: 0.7109\n",
            "Epoch 66/100\n",
            "100/100 [==============================] - 27s 266ms/step - loss: 0.4109 - accuracy: 0.8455 - val_loss: 0.6612 - val_accuracy: 0.7875\n",
            "Epoch 67/100\n",
            "100/100 [==============================] - 26s 258ms/step - loss: 0.3851 - accuracy: 0.8606 - val_loss: 0.8139 - val_accuracy: 0.7156\n",
            "Epoch 68/100\n",
            "100/100 [==============================] - ETA: 0s - loss: 0.4160 - accuracy: 0.8570Restoring model weights from the end of the best epoch.\n",
            "100/100 [==============================] - 27s 270ms/step - loss: 0.4160 - accuracy: 0.8570 - val_loss: 0.7366 - val_accuracy: 0.7125\n",
            "Epoch 00068: early stopping\n"
          ],
          "name": "stdout"
        }
      ]
    },
    {
      "cell_type": "code",
      "metadata": {
        "id": "Y35JcDFNEowN"
      },
      "source": [
        "#saving second model\n",
        "model_two.save('second_run_model.h5')"
      ],
      "execution_count": null,
      "outputs": []
    },
    {
      "cell_type": "markdown",
      "metadata": {
        "id": "zeCg5tPXjBUY"
      },
      "source": [
        "###Accuracy and loss"
      ]
    },
    {
      "cell_type": "code",
      "metadata": {
        "id": "VILpRYMbDlhY",
        "colab": {
          "base_uri": "https://localhost:8080/",
          "height": 545
        },
        "outputId": "818919ab-b81d-47b1-865f-054d0dcd4f98"
      },
      "source": [
        "#plot accuracy and loss\n",
        "acc_vloss(history2, 'second_run_acc.svg', 'second_run_loss.svg')"
      ],
      "execution_count": null,
      "outputs": [
        {
          "output_type": "display_data",
          "data": {
            "image/png": "[encoded data removed]",
            "text/plain": [
              "<Figure size 432x288 with 1 Axes>"
            ]
          },
          "metadata": {
            "tags": [],
            "needs_background": "light"
          }
        },
        {
          "output_type": "display_data",
          "data": {
            "image/png": "[encoded data removed]",
            "text/plain": [
              "<Figure size 432x288 with 1 Axes>"
            ]
          },
          "metadata": {
            "tags": [],
            "needs_background": "light"
          }
        }
      ]
    },
    {
      "cell_type": "markdown",
      "metadata": {
        "id": "eie4QpJazL0q"
      },
      "source": [
        "#Metrics"
      ]
    },
    {
      "cell_type": "code",
      "metadata": {
        "id": "6RZwAjnpzLcp",
        "colab": {
          "base_uri": "https://localhost:8080/"
        },
        "outputId": "0a069fb1-6ffb-4c5c-84ce-9914ad51a904"
      },
      "source": [
        "#evaluating the final model\n",
        "def create_test_generator(batch_size = int, target_size = (int, int), class_mode = 'binary'):\n",
        "  '''Creates test image generator.\n",
        "  Takes batch size, target image size, and class mode.'''\n",
        "  test_generator = test_datagen.flow_from_directory(\n",
        "  test_dir,\n",
        "  target_size=(150, 150),\n",
        "  batch_size=20,\n",
        "  class_mode='categorical')\n",
        "  return test_generator\n",
        "  \n",
        "test_loss, test_accuracy = model_two.evaluate(create_test_generator(20, (150, 150), 'categorical'), steps = 50)\n",
        "print('test acc:', test_accuracy)"
      ],
      "execution_count": null,
      "outputs": [
        {
          "output_type": "stream",
          "text": [
            "Found 1648 images belonging to 7 classes.\n",
            " 7/50 [===>..........................] - ETA: 3:54 - loss: 0.5126 - accuracy: 0.8500"
          ],
          "name": "stdout"
        },
        {
          "output_type": "stream",
          "text": [
            "/usr/local/lib/python3.6/dist-packages/PIL/Image.py:932: UserWarning: Palette images with Transparency expressed in bytes should be converted to RGBA images\n",
            "  \"Palette images with Transparency expressed in bytes should be \"\n"
          ],
          "name": "stderr"
        },
        {
          "output_type": "stream",
          "text": [
            "50/50 [==============================] - 314s 6s/step - loss: 0.5378 - accuracy: 0.8140\n",
            "test acc: 0.8140000104904175\n"
          ],
          "name": "stdout"
        }
      ]
    },
    {
      "cell_type": "markdown",
      "metadata": {
        "id": "Pdb8fakCjElV"
      },
      "source": [
        "#Loading Pre-trained model"
      ]
    },
    {
      "cell_type": "code",
      "metadata": {
        "id": "CDvvg4zodcTl",
        "colab": {
          "base_uri": "https://localhost:8080/"
        },
        "outputId": "f34301d6-4c10-4c3f-bf44-b6d3e397027a"
      },
      "source": [
        "#Using a pretrained model\n",
        "\n",
        "from tensorflow.keras.applications import VGG16\n",
        "\n",
        "#instantiating VGG16 convolutional base with 14.7 mil parameters\n",
        "\n",
        "convolutional_base = VGG16(weights = 'imagenet',\n",
        "                            include_top = False,\n",
        "                            input_shape = (150, 150, 3))\n",
        "\n",
        "convolutional_base.summary()"
      ],
      "execution_count": null,
      "outputs": [
        {
          "output_type": "stream",
          "text": [
            "Downloading data from https://storage.googleapis.com/tensorflow/keras-applications/vgg16/vgg16_weights_tf_dim_ordering_tf_kernels_notop.h5\n",
            "58892288/58889256 [==============================] - 0s 0us/step\n",
            "Model: \"vgg16\"\n",
            "_________________________________________________________________\n",
            "Layer (type)                 Output Shape              Param #   \n",
            "=================================================================\n",
            "input_1 (InputLayer)         [(None, 150, 150, 3)]     0         \n",
            "_________________________________________________________________\n",
            "block1_conv1 (Conv2D)        (None, 150, 150, 64)      1792      \n",
            "_________________________________________________________________\n",
            "block1_conv2 (Conv2D)        (None, 150, 150, 64)      36928     \n",
            "_________________________________________________________________\n",
            "block1_pool (MaxPooling2D)   (None, 75, 75, 64)        0         \n",
            "_________________________________________________________________\n",
            "block2_conv1 (Conv2D)        (None, 75, 75, 128)       73856     \n",
            "_________________________________________________________________\n",
            "block2_conv2 (Conv2D)        (None, 75, 75, 128)       147584    \n",
            "_________________________________________________________________\n",
            "block2_pool (MaxPooling2D)   (None, 37, 37, 128)       0         \n",
            "_________________________________________________________________\n",
            "block3_conv1 (Conv2D)        (None, 37, 37, 256)       295168    \n",
            "_________________________________________________________________\n",
            "block3_conv2 (Conv2D)        (None, 37, 37, 256)       590080    \n",
            "_________________________________________________________________\n",
            "block3_conv3 (Conv2D)        (None, 37, 37, 256)       590080    \n",
            "_________________________________________________________________\n",
            "block3_pool (MaxPooling2D)   (None, 18, 18, 256)       0         \n",
            "_________________________________________________________________\n",
            "block4_conv1 (Conv2D)        (None, 18, 18, 512)       1180160   \n",
            "_________________________________________________________________\n",
            "block4_conv2 (Conv2D)        (None, 18, 18, 512)       2359808   \n",
            "_________________________________________________________________\n",
            "block4_conv3 (Conv2D)        (None, 18, 18, 512)       2359808   \n",
            "_________________________________________________________________\n",
            "block4_pool (MaxPooling2D)   (None, 9, 9, 512)         0         \n",
            "_________________________________________________________________\n",
            "block5_conv1 (Conv2D)        (None, 9, 9, 512)         2359808   \n",
            "_________________________________________________________________\n",
            "block5_conv2 (Conv2D)        (None, 9, 9, 512)         2359808   \n",
            "_________________________________________________________________\n",
            "block5_conv3 (Conv2D)        (None, 9, 9, 512)         2359808   \n",
            "_________________________________________________________________\n",
            "block5_pool (MaxPooling2D)   (None, 4, 4, 512)         0         \n",
            "=================================================================\n",
            "Total params: 14,714,688\n",
            "Trainable params: 14,714,688\n",
            "Non-trainable params: 0\n",
            "_________________________________________________________________\n"
          ],
          "name": "stdout"
        }
      ]
    },
    {
      "cell_type": "markdown",
      "metadata": {
        "id": "BIH7sgzUD_V4"
      },
      "source": [
        "##Using a pretrained model with data augmentation"
      ]
    },
    {
      "cell_type": "code",
      "metadata": {
        "id": "F5FRfAkQpN1w"
      },
      "source": [
        "\n",
        "#This method is slower and more expensive but allows data augmentation during training, which is great for smaller datasets\n",
        "#Adding convolutional base and Dense layers\n",
        "\n",
        "def convolutional_base_dense_model(model_name = str):\n",
        "  '''Defines base of network from pretrained model and freezes base'''\n",
        "  model_name = Sequential()\n",
        "\n",
        "  model_name.add(convolutional_base)\n",
        "  model_name.add(Flatten())\n",
        "  model_name.add(Dense(256, activation = 'relu'))\n",
        "  model_name.add(Dense(7, activation = 'softmax'))\n",
        "  return model_name\n",
        "\n",
        "#Freezing convolutional_base trainable parameters  \n",
        "convolutional_base.trainable = False\n"
      ],
      "execution_count": null,
      "outputs": []
    },
    {
      "cell_type": "code",
      "metadata": {
        "id": "xp_ew9kRwNU7",
        "colab": {
          "base_uri": "https://localhost:8080/"
        },
        "outputId": "76b83fac-6307-4542-f526-15d5fd2e7ea6"
      },
      "source": [
        "train_datagen_aug = create_train_datagen_aug()\n",
        "\n",
        "test_datagen = create_test_datagen()\n",
        "\n",
        "train_generator = create_train_generator(20, (150, 150), 'categorical')\n",
        "\n",
        "validation_generator = create_validation_generator(20, (150, 150), 'categorical')"
      ],
      "execution_count": null,
      "outputs": [
        {
          "output_type": "stream",
          "text": [
            "Found 3494 images belonging to 7 classes.\n",
            "Found 672 images belonging to 7 classes.\n"
          ],
          "name": "stdout"
        }
      ]
    },
    {
      "cell_type": "code",
      "metadata": {
        "id": "mczz0AzmwEwU"
      },
      "source": [
        "model_four = convolutional_base_dense_model('trained_plus')\n",
        "\n",
        "model_four.compile(optimizer = RMS,\n",
        "              loss = 'categorical_crossentropy',\n",
        "              metrics = ['accuracy'])"
      ],
      "execution_count": null,
      "outputs": []
    },
    {
      "cell_type": "markdown",
      "metadata": {
        "id": "lX46WvB2jN2u"
      },
      "source": [
        "###Training Model 4"
      ]
    },
    {
      "cell_type": "code",
      "metadata": {
        "id": "2k726_NhMok0"
      },
      "source": [
        "def history(model = tf.keras.models.Sequential, steps_per_epoch = int, epochs = int, validation_steps = int): #takes model and three int parameters\n",
        "  '''Creates a network object.\n",
        "  Defines the training parameters and returns model.fit object.\n",
        "  Takes keras model, steps per epoch, epochs, and validation steps'''\n",
        "  history = model.fit(train_generator,\n",
        "                      steps_per_epoch=steps_per_epoch,\n",
        "                      epochs=epochs,\n",
        "                      validation_data=validation_generator,\n",
        "                      validation_steps=validation_steps,\n",
        "                      callbacks = [callbacks.EarlyStopping(monitor = 'loss' )])\n",
        "  return history"
      ],
      "execution_count": null,
      "outputs": []
    },
    {
      "cell_type": "code",
      "metadata": {
        "id": "5n4P7w12t2TQ",
        "colab": {
          "base_uri": "https://localhost:8080/"
        },
        "outputId": "233610ae-a900-4230-dd84-6881af7f87b9"
      },
      "source": [
        "history4 = history(model_four, 100, 30, 50)"
      ],
      "execution_count": null,
      "outputs": [
        {
          "output_type": "stream",
          "text": [
            "Epoch 1/30\n",
            " 24/100 [======>.......................] - ETA: 19s - loss: 0.0793 - accuracy: 0.9854"
          ],
          "name": "stdout"
        },
        {
          "output_type": "stream",
          "text": [
            "/usr/local/lib/python3.6/dist-packages/PIL/TiffImagePlugin.py:788: UserWarning: Corrupt EXIF data.  Expecting to read 2 bytes but only got 0. \n",
            "  warnings.warn(str(msg))\n"
          ],
          "name": "stderr"
        },
        {
          "output_type": "stream",
          "text": [
            "100/100 [==============================] - 23s 229ms/step - loss: 0.0910 - accuracy: 0.9824\n",
            "Epoch 2/30\n",
            "100/100 [==============================] - 23s 234ms/step - loss: 0.0778 - accuracy: 0.9875\n",
            "Epoch 3/30\n",
            "100/100 [==============================] - 22s 221ms/step - loss: 0.0679 - accuracy: 0.9895\n",
            "Epoch 4/30\n",
            "100/100 [==============================] - 21s 208ms/step - loss: 0.0584 - accuracy: 0.9890\n",
            "Epoch 5/30\n",
            "100/100 [==============================] - 22s 219ms/step - loss: 0.0572 - accuracy: 0.9910\n",
            "Epoch 6/30\n",
            "100/100 [==============================] - 21s 209ms/step - loss: 0.0449 - accuracy: 0.9915\n",
            "Epoch 7/30\n",
            "100/100 [==============================] - 20s 203ms/step - loss: 0.0380 - accuracy: 0.9975\n",
            "Epoch 8/30\n",
            "100/100 [==============================] - 22s 221ms/step - loss: 0.0322 - accuracy: 0.9975\n",
            "Epoch 9/30\n",
            "100/100 [==============================] - 22s 219ms/step - loss: 0.0281 - accuracy: 0.9985\n",
            "Epoch 10/30\n",
            "100/100 [==============================] - 23s 229ms/step - loss: 0.0232 - accuracy: 0.9985\n",
            "Epoch 11/30\n",
            "100/100 [==============================] - 22s 218ms/step - loss: 0.0214 - accuracy: 0.9985\n",
            "Epoch 12/30\n",
            "100/100 [==============================] - 21s 210ms/step - loss: 0.0211 - accuracy: 0.9970\n",
            "Epoch 13/30\n",
            "100/100 [==============================] - 21s 213ms/step - loss: 0.0150 - accuracy: 0.9990\n",
            "Epoch 14/30\n",
            "100/100 [==============================] - 22s 216ms/step - loss: 0.0134 - accuracy: 0.9985\n",
            "Epoch 15/30\n",
            "100/100 [==============================] - 21s 213ms/step - loss: 0.0108 - accuracy: 0.9995\n",
            "Epoch 16/30\n",
            "100/100 [==============================] - 21s 209ms/step - loss: 0.0108 - accuracy: 0.9990\n"
          ],
          "name": "stdout"
        }
      ]
    },
    {
      "cell_type": "code",
      "metadata": {
        "id": "KDviqBi-C2aK"
      },
      "source": [
        "model_four.save('big_cats_four4.h5')"
      ],
      "execution_count": null,
      "outputs": []
    },
    {
      "cell_type": "markdown",
      "metadata": {
        "id": "g5uLQ36MEM8N"
      },
      "source": [
        "#Fine-Tuning"
      ]
    },
    {
      "cell_type": "code",
      "metadata": {
        "id": "6dIuqT7yDKmM",
        "colab": {
          "base_uri": "https://localhost:8080/"
        },
        "outputId": "cac0a63e-2140-4549-a0bf-96386a61cb33"
      },
      "source": [
        "#unfreezing some layers\n",
        "convolutional_base.summary()"
      ],
      "execution_count": null,
      "outputs": [
        {
          "output_type": "stream",
          "text": [
            "Model: \"vgg16\"\n",
            "_________________________________________________________________\n",
            "Layer (type)                 Output Shape              Param #   \n",
            "=================================================================\n",
            "input_1 (InputLayer)         [(None, 150, 150, 3)]     0         \n",
            "_________________________________________________________________\n",
            "block1_conv1 (Conv2D)        (None, 150, 150, 64)      1792      \n",
            "_________________________________________________________________\n",
            "block1_conv2 (Conv2D)        (None, 150, 150, 64)      36928     \n",
            "_________________________________________________________________\n",
            "block1_pool (MaxPooling2D)   (None, 75, 75, 64)        0         \n",
            "_________________________________________________________________\n",
            "block2_conv1 (Conv2D)        (None, 75, 75, 128)       73856     \n",
            "_________________________________________________________________\n",
            "block2_conv2 (Conv2D)        (None, 75, 75, 128)       147584    \n",
            "_________________________________________________________________\n",
            "block2_pool (MaxPooling2D)   (None, 37, 37, 128)       0         \n",
            "_________________________________________________________________\n",
            "block3_conv1 (Conv2D)        (None, 37, 37, 256)       295168    \n",
            "_________________________________________________________________\n",
            "block3_conv2 (Conv2D)        (None, 37, 37, 256)       590080    \n",
            "_________________________________________________________________\n",
            "block3_conv3 (Conv2D)        (None, 37, 37, 256)       590080    \n",
            "_________________________________________________________________\n",
            "block3_pool (MaxPooling2D)   (None, 18, 18, 256)       0         \n",
            "_________________________________________________________________\n",
            "block4_conv1 (Conv2D)        (None, 18, 18, 512)       1180160   \n",
            "_________________________________________________________________\n",
            "block4_conv2 (Conv2D)        (None, 18, 18, 512)       2359808   \n",
            "_________________________________________________________________\n",
            "block4_conv3 (Conv2D)        (None, 18, 18, 512)       2359808   \n",
            "_________________________________________________________________\n",
            "block4_pool (MaxPooling2D)   (None, 9, 9, 512)         0         \n",
            "_________________________________________________________________\n",
            "block5_conv1 (Conv2D)        (None, 9, 9, 512)         2359808   \n",
            "_________________________________________________________________\n",
            "block5_conv2 (Conv2D)        (None, 9, 9, 512)         2359808   \n",
            "_________________________________________________________________\n",
            "block5_conv3 (Conv2D)        (None, 9, 9, 512)         2359808   \n",
            "_________________________________________________________________\n",
            "block5_pool (MaxPooling2D)   (None, 4, 4, 512)         0         \n",
            "=================================================================\n",
            "Total params: 14,714,688\n",
            "Trainable params: 0\n",
            "Non-trainable params: 14,714,688\n",
            "_________________________________________________________________\n"
          ],
          "name": "stdout"
        }
      ]
    },
    {
      "cell_type": "markdown",
      "metadata": {
        "id": "a_DgNpgwk4kw"
      },
      "source": [
        "##Unfreezing model base for training"
      ]
    },
    {
      "cell_type": "code",
      "metadata": {
        "id": "528qQJAiMhHk",
        "colab": {
          "base_uri": "https://localhost:8080/"
        },
        "outputId": "cbc28e42-3d00-4f80-fe2c-2719284bde29"
      },
      "source": [
        "#unfreezing block5_pool & block5_conv1 - 3\n",
        "convolutional_base.trainable = True\n",
        "\n",
        "set_trainable = False \n",
        "\n",
        "for layer in convolutional_base.layers:\n",
        "  if layer.name == 'block5_conv1':\n",
        "    set_trainable = True\n",
        "  if set_trainable:\n",
        "    layer.trainable = True\n",
        "  else:\n",
        "    layer.trainable = False\n",
        "\n",
        "len(convolutional_base.trainable_weights)"
      ],
      "execution_count": null,
      "outputs": [
        {
          "output_type": "execute_result",
          "data": {
            "text/plain": [
              "6"
            ]
          },
          "metadata": {
            "tags": []
          },
          "execution_count": 36
        }
      ]
    },
    {
      "cell_type": "markdown",
      "metadata": {
        "id": "LVOWMnn9k-Mj"
      },
      "source": [
        "##Training Final Model"
      ]
    },
    {
      "cell_type": "code",
      "metadata": {
        "id": "THkM7q4Beyue",
        "colab": {
          "base_uri": "https://localhost:8080/"
        },
        "outputId": "3cbe0be8-9ee9-42a9-bd59-5c11b804b064"
      },
      "source": [
        "RMS = RMSprop(lr=1e-5)\n",
        "model_four.compile(loss = 'categorical_crossentropy', optimizer = RMS, metrics = ['accuracy'] )\n",
        "\n",
        "history5 = history(model_four, 100, 100, 50)"
      ],
      "execution_count": null,
      "outputs": [
        {
          "output_type": "stream",
          "text": [
            "Epoch 1/100\n",
            "100/100 [==============================] - ETA: 0s - loss: 0.0070 - accuracy: 0.9990WARNING:tensorflow:Your input ran out of data; interrupting training. Make sure that your dataset or generator can generate at least `steps_per_epoch * epochs` batches (in this case, 50 batches). You may need to use the repeat() function when building your dataset.\n",
            "100/100 [==============================] - 27s 266ms/step - loss: 0.0070 - accuracy: 0.9990 - val_loss: 1.1530 - val_accuracy: 0.7560\n",
            "Epoch 2/100\n",
            "100/100 [==============================] - 22s 218ms/step - loss: 0.0036 - accuracy: 0.9995\n",
            "Epoch 3/100\n",
            "100/100 [==============================] - 22s 215ms/step - loss: 0.0019 - accuracy: 1.0000\n",
            "Epoch 4/100\n",
            " 99/100 [============================>.] - ETA: 0s - loss: 8.5775e-04 - accuracy: 1.0000"
          ],
          "name": "stdout"
        },
        {
          "output_type": "stream",
          "text": [
            "/usr/local/lib/python3.6/dist-packages/PIL/TiffImagePlugin.py:788: UserWarning: Corrupt EXIF data.  Expecting to read 2 bytes but only got 0. \n",
            "  warnings.warn(str(msg))\n"
          ],
          "name": "stderr"
        },
        {
          "output_type": "stream",
          "text": [
            "100/100 [==============================] - 22s 215ms/step - loss: 8.5266e-04 - accuracy: 1.0000\n",
            "Epoch 5/100\n",
            "100/100 [==============================] - 21s 208ms/step - loss: 7.3649e-04 - accuracy: 1.0000\n",
            "Epoch 6/100\n",
            "100/100 [==============================] - 21s 214ms/step - loss: 4.3276e-04 - accuracy: 1.0000\n",
            "Epoch 7/100\n",
            "100/100 [==============================] - 22s 217ms/step - loss: 3.3071e-04 - accuracy: 1.0000\n",
            "Epoch 8/100\n",
            "100/100 [==============================] - 21s 214ms/step - loss: 2.3750e-04 - accuracy: 1.0000\n",
            "Epoch 9/100\n",
            "100/100 [==============================] - 21s 215ms/step - loss: 5.9558e-04 - accuracy: 0.9995\n"
          ],
          "name": "stdout"
        }
      ]
    },
    {
      "cell_type": "markdown",
      "metadata": {
        "id": "MX77ksPLlFPC"
      },
      "source": [
        "###Accuracy and loss"
      ]
    },
    {
      "cell_type": "code",
      "metadata": {
        "id": "_fGwkE6IEgn-",
        "colab": {
          "base_uri": "https://localhost:8080/",
          "height": 529
        },
        "outputId": "ab0fcbe5-c1d1-4b1b-c9da-777bf77e6388"
      },
      "source": [
        "acc_vloss(history5, 'final_run_acc.svg', 'final_run_loss.svg')"
      ],
      "execution_count": null,
      "outputs": [
        {
          "output_type": "display_data",
          "data": {
            "image/png": "[encoded data removed]",
            "text/plain": [
              "<Figure size 432x288 with 1 Axes>"
            ]
          },
          "metadata": {
            "tags": [],
            "needs_background": "light"
          }
        },
        {
          "output_type": "display_data",
          "data": {
            "image/png": "[encoded data removed]",
            "text/plain": [
              "<Figure size 432x288 with 1 Axes>"
            ]
          },
          "metadata": {
            "tags": [],
            "needs_background": "light"
          }
        }
      ]
    },
    {
      "cell_type": "markdown",
      "metadata": {
        "id": "AHzT_uwslK4h"
      },
      "source": [
        "###Metrics"
      ]
    },
    {
      "cell_type": "code",
      "metadata": {
        "id": "Pp03eAe9hxCw",
        "colab": {
          "base_uri": "https://localhost:8080/"
        },
        "outputId": "a854f8ea-50c8-4356-89ca-699b9d6824f3"
      },
      "source": [
        "#evaluating the final model\n",
        "def create_test_generator(batch_size = int, target_size = (int, int), class_mode = 'binary'):\n",
        "  '''Creates test image generator.\n",
        "  Takes batch size, target image size, and class mode.'''\n",
        "  test_generator = test_datagen.flow_from_directory(\n",
        "  test_dir,\n",
        "  target_size=(150, 150),\n",
        "  batch_size=20,\n",
        "  class_mode='categorical')\n",
        "  return test_generator\n",
        "  \n",
        "test_loss, test_accuracy = model_four.evaluate(create_test_generator(20, (150, 150), 'categorical'), steps = 50)\n",
        "print('test acc:', test_accuracy)"
      ],
      "execution_count": null,
      "outputs": [
        {
          "output_type": "stream",
          "text": [
            "Found 1648 images belonging to 7 classes.\n",
            " 8/50 [===>..........................] - ETA: 1:20 - loss: 0.7810 - accuracy: 0.8750"
          ],
          "name": "stdout"
        },
        {
          "output_type": "stream",
          "text": [
            "/usr/local/lib/python3.6/dist-packages/PIL/Image.py:932: UserWarning: Palette images with Transparency expressed in bytes should be converted to RGBA images\n",
            "  \"Palette images with Transparency expressed in bytes should be \"\n"
          ],
          "name": "stderr"
        },
        {
          "output_type": "stream",
          "text": [
            "50/50 [==============================] - 130s 3s/step - loss: 0.8781 - accuracy: 0.8620\n",
            "test acc: 0.8619999885559082\n"
          ],
          "name": "stdout"
        }
      ]
    },
    {
      "cell_type": "code",
      "metadata": {
        "id": "voZPo_NZlA7H"
      },
      "source": [
        "model_four.save('big_cat_final_model5.h5')"
      ],
      "execution_count": null,
      "outputs": []
    },
    {
      "cell_type": "code",
      "metadata": {
        "id": "Afwxy_6e44eO",
        "colab": {
          "base_uri": "https://localhost:8080/"
        },
        "outputId": "299ff959-8a53-4460-9f2a-69377674983f"
      },
      "source": [
        "model_four.summary()"
      ],
      "execution_count": null,
      "outputs": [
        {
          "output_type": "stream",
          "text": [
            "Model: \"sequential_3\"\n",
            "_________________________________________________________________\n",
            "Layer (type)                 Output Shape              Param #   \n",
            "=================================================================\n",
            "vgg16 (Functional)           (None, 4, 4, 512)         14714688  \n",
            "_________________________________________________________________\n",
            "flatten_3 (Flatten)          (None, 8192)              0         \n",
            "_________________________________________________________________\n",
            "dense_6 (Dense)              (None, 256)               2097408   \n",
            "_________________________________________________________________\n",
            "dense_7 (Dense)              (None, 7)                 1799      \n",
            "=================================================================\n",
            "Total params: 16,813,895\n",
            "Trainable params: 9,178,631\n",
            "Non-trainable params: 7,635,264\n",
            "_________________________________________________________________\n"
          ],
          "name": "stdout"
        }
      ]
    },
    {
      "cell_type": "code",
      "metadata": {
        "id": "l1LNNUMSf2dx"
      },
      "source": [
        ""
      ],
      "execution_count": null,
      "outputs": []
    }
  ]
}