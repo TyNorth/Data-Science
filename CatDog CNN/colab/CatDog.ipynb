{
  "nbformat": 4,
  "nbformat_minor": 0,
  "metadata": {
    "kernelspec": {
      "display_name": "Python 3",
      "language": "python",
      "name": "python3"
    },
    "language_info": {
      "codemirror_mode": {
        "name": "ipython",
        "version": 3
      },
      "file_extension": ".py",
      "mimetype": "text/x-python",
      "name": "python",
      "nbconvert_exporter": "python",
      "pygments_lexer": "ipython3",
      "version": "3.7.6"
    },
    "toc": {
      "base_numbering": 1,
      "nav_menu": {},
      "number_sections": true,
      "sideBar": true,
      "skip_h1_title": false,
      "title_cell": "Table of Contents",
      "title_sidebar": "Contents",
      "toc_cell": false,
      "toc_position": {},
      "toc_section_display": true,
      "toc_window_display": false
    },
    "colab": {
      "name": "CatDog Complete.ipynb",
      "provenance": [],
      "collapsed_sections": [],
      "toc_visible": true
    },
    "accelerator": "TPU"
  },
  "cells": [
    {
      "cell_type": "code",
      "metadata": {
        "id": "S6LRmgdWmSef",
        "colab_type": "code",
        "colab": {}
      },
      "source": [
        "#import libraries\n",
        "\n",
        "import os, shutil\n",
        "import tensorflow as tf\n",
        "from tensorflow.keras.layers import Flatten, Dense, MaxPooling2D, Conv2D, Dropout \n",
        "from tensorflow.keras.optimizers import RMSprop \n",
        "from tensorflow.keras.models import Sequential \n",
        "from tensorflow.keras.preprocessing.image import ImageDataGenerator\n",
        "from tensorflow.keras import models\n",
        "import numpy as np"
      ],
      "execution_count": 0,
      "outputs": []
    },
    {
      "cell_type": "code",
      "metadata": {
        "id": "pNeJbsc6mSej",
        "colab_type": "code",
        "colab": {}
      },
      "source": [
        "#create subfolders for training, testing, and vakidation sets\n",
        "#using small set to mimick real world setting where tens of thousands of data points is not always possible\n",
        "\n",
        "original_dataset_dir = '~/Documents/Documents/train/'\n",
        "base_dir = 'C:/Users/tnort/Documents/cats_and_dogs_small/'\n",
        "#os.mkdir(base_dir)\n",
        "\n",
        "train_dir = os.path.join(base_dir, 'train')\n",
        "#os.mkdir(train_dir)\n",
        "\n",
        "validation_dir = os.path.join(base_dir, 'validation')\n",
        "#os.mkdir(validation_dir)\n",
        "\n",
        "test_dir = os.path.join(base_dir, 'test')\n",
        "#os.mkdir(test_dir)\n",
        "\n",
        "train_cats_dir = os.path.join(train_dir, 'cats')\n",
        "#os.mkdir(train_cats_dir)\n",
        "\n",
        "train_dogs_dir = os.path.join(train_dir, 'dogs')\n",
        "#os.mkdir(train_dogs_dir)\n",
        "\n",
        "validation_cats_dir = os.path.join(validation_dir, 'cats')\n",
        "#os.mkdir(validation_cats_dir)\n",
        "\n",
        "validation_dogs_dir = os.path.join(validation_dir, 'dogs')\n",
        "#os.mkdir(validation_dogs_dir)\n",
        "\n",
        "test_cats_dir = os.path.join(test_dir, 'cats')\n",
        "#os.mkdir(test_cats_dir)\n",
        "\n",
        "test_dogs_dir = os.path.join(test_dir, 'dogs')\n",
        "#os.mkdir(test_dogs_dir)\n",
        "\n"
      ],
      "execution_count": 0,
      "outputs": []
    },
    {
      "cell_type": "code",
      "metadata": {
        "id": "21k4t-qx0PlA",
        "colab_type": "code",
        "colab": {}
      },
      "source": [
        "#copies first 1000 images to train, 500 to test, 500 to validation for dogs and cats\n",
        "\n",
        "fnames = ['cat.{}.jpg'.format(i) for i in range(1000)]\n",
        "for fname in fnames:\n",
        "  src = os.path.join(original_dataset_dir, fname)\n",
        "  dst = os.path.join(train_cats_dir, fname)\n",
        "  shutil.copyfile(src, dst)\n",
        "\n",
        "fnames = ['cat.{}.jpg'.format(i) for i in range(1000, 1500)]\n",
        "for fname in fnames:\n",
        "  src = os.path.join(original_dataset_dir, fname)\n",
        "  dst = os.path.join(validation_cats_dir, fname)\n",
        "  shutil.copyfile(src, dst)\n",
        "\n",
        "fnames = ['cat.{}.jpg'.format(i) for i in range(1500, 2000)]\n",
        "for fname in fnames:\n",
        "  src = os.path.join(original_dataset_dir, fname)\n",
        "  dst = os.path.join(test_cats_dir, fname)\n",
        "  shutil.copyfile(src, dst)\n",
        "\n",
        "fnames = ['dog.{}.jpg'.format(i) for i in range(1000)]\n",
        "for fname in fnames:\n",
        "  src = os.path.join(original_dataset_dir, fname)\n",
        "  dst = os.path.join(train_dogs_dir, fname)\n",
        "  shutil.copyfile(src, dst)\n",
        "\n",
        "fnames = ['dog.{}.jpg'.format(i) for i in range(1000, 1500)]\n",
        "for fname in fnames:\n",
        "  src = os.path.join(original_dataset_dir, fname)\n",
        "  dst = os.path.join(validation_dogs_dir, fname)\n",
        "  shutil.copyfile(src, dst)\n",
        "\n",
        "fnames = ['dog.{}.jpg'.format(i) for i in range(1500, 2000)]\n",
        "for fname in fnames:\n",
        "  src = os.path.join(original_dataset_dir, fname)\n",
        "  dst = os.path.join(test_dogs_dir, fname)\n",
        "  shutil.copyfile(src, dst)"
      ],
      "execution_count": 0,
      "outputs": []
    },
    {
      "cell_type": "code",
      "metadata": {
        "scrolled": true,
        "id": "-Ev2CyO7mSel",
        "colab_type": "code",
        "outputId": "16eda198-0dc0-45ce-bc91-4d0d4a4959c0",
        "colab": {
          "base_uri": "https://localhost:8080/",
          "height": 136
        }
      },
      "source": [
        "#Number of images per training, testing, and validation set\n",
        "\n",
        "print('total training cat images:', len(os.listdir(train_cats_dir)), '\\n',\n",
        "      'total training dog images:', len(os.listdir(train_dogs_dir)), '\\n',\n",
        "      'total validation cat images:', len(os.listdir(validation_cats_dir)), '\\n',\n",
        "      'total validation dog images:', len(os.listdir(validation_dogs_dir)), '\\n',\n",
        "      'total test cat images:', len(os.listdir(test_cats_dir)), '\\n',\n",
        "      'total test dog images:', len(os.listdir(test_dogs_dir)), '\\n'\n",
        "      )"
      ],
      "execution_count": 3,
      "outputs": [
        {
          "output_type": "stream",
          "text": [
            "total training cat images: 1000 \n",
            " total training dog images: 1000 \n",
            " total validation cat images: 500 \n",
            " total validation dog images: 500 \n",
            " total test cat images: 500 \n",
            " total test dog images: 500 \n",
            "\n"
          ],
          "name": "stdout"
        }
      ]
    },
    {
      "cell_type": "code",
      "metadata": {
        "id": "E2L12TLavVl5",
        "colab_type": "code",
        "outputId": "9e9e9d44-3808-4383-dc09-bf137187452c",
        "colab": {
          "base_uri": "https://localhost:8080/",
          "height": 527
        }
      },
      "source": [
        "#model blueprint, summary statistics, 3.4 million parameters\n",
        "\n",
        "model_blueprint = Sequential()\n",
        "\n",
        "model_blueprint.add(Conv2D(32,\n",
        "                kernel_size = (3, 3),\n",
        "                activation = 'relu',\n",
        "                input_shape = (150, 150, 3)))\n",
        "model_blueprint.add(MaxPooling2D(pool_size = (2,2), strides = (2,2)))\n",
        "\n",
        "model_blueprint.add(Conv2D(64, kernel_size = (3, 3), activation = 'relu'))\n",
        "model_blueprint.add(MaxPooling2D(pool_size = (2,2)))\n",
        "\n",
        "model_blueprint.add(Conv2D(128, kernel_size = (3, 3), activation = 'relu'))\n",
        "model_blueprint.add(MaxPooling2D(pool_size = (2,2)))\n",
        "\n",
        "model_blueprint.add(Conv2D(128, kernel_size = (3, 3), activation = 'relu'))\n",
        "model_blueprint.add(MaxPooling2D(pool_size = (2,2)))\n",
        "\n",
        "model_blueprint.add(Flatten())\n",
        "model_blueprint.add(Dense(512, activation = 'relu'))\n",
        "model_blueprint.add(Dense(1, activation = 'sigmoid'))\n",
        "\n",
        "model_blueprint.summary()"
      ],
      "execution_count": 4,
      "outputs": [
        {
          "output_type": "stream",
          "text": [
            "Model: \"sequential\"\n",
            "_________________________________________________________________\n",
            "Layer (type)                 Output Shape              Param #   \n",
            "=================================================================\n",
            "conv2d (Conv2D)              (None, 148, 148, 32)      896       \n",
            "_________________________________________________________________\n",
            "max_pooling2d (MaxPooling2D) (None, 74, 74, 32)        0         \n",
            "_________________________________________________________________\n",
            "conv2d_1 (Conv2D)            (None, 72, 72, 64)        18496     \n",
            "_________________________________________________________________\n",
            "max_pooling2d_1 (MaxPooling2 (None, 36, 36, 64)        0         \n",
            "_________________________________________________________________\n",
            "conv2d_2 (Conv2D)            (None, 34, 34, 128)       73856     \n",
            "_________________________________________________________________\n",
            "max_pooling2d_2 (MaxPooling2 (None, 17, 17, 128)       0         \n",
            "_________________________________________________________________\n",
            "conv2d_3 (Conv2D)            (None, 15, 15, 128)       147584    \n",
            "_________________________________________________________________\n",
            "max_pooling2d_3 (MaxPooling2 (None, 7, 7, 128)         0         \n",
            "_________________________________________________________________\n",
            "flatten (Flatten)            (None, 6272)              0         \n",
            "_________________________________________________________________\n",
            "dense (Dense)                (None, 512)               3211776   \n",
            "_________________________________________________________________\n",
            "dense_1 (Dense)              (None, 1)                 513       \n",
            "=================================================================\n",
            "Total params: 3,453,121\n",
            "Trainable params: 3,453,121\n",
            "Non-trainable params: 0\n",
            "_________________________________________________________________\n"
          ],
          "name": "stdout"
        }
      ]
    },
    {
      "cell_type": "code",
      "metadata": {
        "id": "UShLdIrUmSeq",
        "colab_type": "code",
        "colab": {}
      },
      "source": [
        "#defining convolutional neural network  \n",
        "\n",
        "RMS = RMSprop(lr=1e-4)\n",
        "\n",
        "def convolutional_model(model_name = str):\n",
        "  model_name = Sequential()\n",
        "\n",
        "\n",
        "\n",
        "  model_name.add(Conv2D(32,\n",
        "                  kernel_size = (3, 3),\n",
        "                  activation = 'relu',\n",
        "                  input_shape = (150, 150, 3)))\n",
        "  model_name.add(MaxPooling2D(pool_size = (2,2), strides = (2,2)))\n",
        "\n",
        "  model_name.add(Conv2D(64, kernel_size = (3, 3), activation = 'relu'))\n",
        "  model_name.add(MaxPooling2D(pool_size = (2,2)))\n",
        "\n",
        "  model_name.add(Conv2D(128, kernel_size = (3, 3), activation = 'relu'))\n",
        "  model_name.add(MaxPooling2D(pool_size = (2,2)))\n",
        "\n",
        "  model_name.add(Conv2D(128, kernel_size = (3, 3), activation = 'relu'))\n",
        "  model_name.add(MaxPooling2D(pool_size = (2,2)))\n",
        "\n",
        "  model_name.add(Flatten())\n",
        "  model_name.add(Dense(512, activation = 'relu'))\n",
        "  model_name.add(Dense(1, activation = 'sigmoid'))\n",
        "\n",
        "\n",
        "\n",
        "  model_name.compile(optimizer = RMS, loss = 'binary_crossentropy', metrics = ['accuracy'])\n",
        "  return model_name"
      ],
      "execution_count": 0,
      "outputs": []
    },
    {
      "cell_type": "code",
      "metadata": {
        "id": "7SFQeIFumSet",
        "colab_type": "code",
        "outputId": "386601a2-4402-4499-d695-2a2609395599",
        "colab": {
          "base_uri": "https://localhost:8080/",
          "height": 34
        }
      },
      "source": [
        "#rescales all images by 1/255\n",
        "\n",
        "def create_train_datagen():\n",
        "  train_datagen = ImageDataGenerator(rescale = 1./255)\n",
        "  return train_datagen\n",
        "\n",
        "train_datagen = create_train_datagen()\n",
        "\n",
        "def create_test_datagen():\n",
        "  test_datagen = ImageDataGenerator(rescale = 1./255)\n",
        "  return test_datagen\n",
        "\n",
        "test_datagen = create_test_datagen()\n",
        "\n",
        "\n",
        "#resizes all triaining images to 150 x 150\n",
        "def create_train_generator(batch_size = int, target_size = (int, int), class_mode =  'binary' ):\n",
        "  train_generator = train_datagen.flow_from_directory(\n",
        "      train_dir,\n",
        "      target_size = (150, 150),\n",
        "      batch_size = 20,\n",
        "      class_mode = 'binary')\n",
        "  return train_generator\n",
        "\n",
        "train_generator = create_train_generator(batch_size = 20, target_size = (150,150))\n"
      ],
      "execution_count": 6,
      "outputs": [
        {
          "output_type": "stream",
          "text": [
            "Found 2000 images belonging to 2 classes.\n"
          ],
          "name": "stdout"
        }
      ]
    },
    {
      "cell_type": "code",
      "metadata": {
        "id": "dhw0gUmjq0Uw",
        "colab_type": "code",
        "outputId": "649a563a-0b3c-49be-d96b-8d4ec2d1ff92",
        "colab": {
          "base_uri": "https://localhost:8080/",
          "height": 34
        }
      },
      "source": [
        "#resizes all validation images to 150 x 150\n",
        "def create_validation_generator(batch_size = int, target_size = (int, int), class_mode = 'binary'):\n",
        "  validation_generator = test_datagen.flow_from_directory(\n",
        "      validation_dir,\n",
        "      target_size = (150, 150),\n",
        "      batch_size = 20,\n",
        "      class_mode = 'binary')\n",
        "  return validation_generator\n",
        "\n",
        "validation_generator = create_validation_generator(20, (150,150))\n"
      ],
      "execution_count": 7,
      "outputs": [
        {
          "output_type": "stream",
          "text": [
            "Found 1000 images belonging to 2 classes.\n"
          ],
          "name": "stdout"
        }
      ]
    },
    {
      "cell_type": "code",
      "metadata": {
        "id": "f3R3xP9zsZ2c",
        "colab_type": "code",
        "outputId": "eaea4cda-cc64-4629-da04-7079d5115d94",
        "colab": {
          "base_uri": "https://localhost:8080/",
          "height": 51
        }
      },
      "source": [
        "#checking the shape of batches\n",
        "for data_batch, labels_batch in train_generator:\n",
        "  print('data batch shape : ', data_batch.shape, '\\n',\n",
        "        'labels batch shape : ', labels_batch.shape)\n",
        "  break"
      ],
      "execution_count": 8,
      "outputs": [
        {
          "output_type": "stream",
          "text": [
            "data batch shape :  (20, 150, 150, 3) \n",
            " labels batch shape :  (20,)\n"
          ],
          "name": "stdout"
        }
      ]
    },
    {
      "cell_type": "code",
      "metadata": {
        "id": "mTPdSTm3N6DE",
        "colab_type": "code",
        "colab": {}
      },
      "source": [
        "#Model fit function\n",
        "def history(model = tf.keras.models.Sequential, steps_per_epoch = int, epochs = int, validation_steps = int): #takes model and three int parameters\n",
        "  history = model.fit(train_generator,\n",
        "                      steps_per_epoch=steps_per_epoch,\n",
        "                      epochs=epochs,\n",
        "                      validation_data=validation_generator,\n",
        "                      validation_steps=validation_steps)\n",
        "  return history"
      ],
      "execution_count": 0,
      "outputs": []
    },
    {
      "cell_type": "code",
      "metadata": {
        "id": "wzJGh5dPx1sB",
        "colab_type": "code",
        "outputId": "4875447d-15d6-431f-b44c-7735b7df13ac",
        "colab": {
          "base_uri": "https://localhost:8080/",
          "height": 1000
        }
      },
      "source": [
        "#fitting/training the neural network\n",
        "\n",
        "model_one = convolutional_model('baseline_model')\n",
        "\n",
        "history1 = history(model_one, 100, 30, 50)"
      ],
      "execution_count": 10,
      "outputs": [
        {
          "output_type": "stream",
          "text": [
            "Epoch 1/30\n",
            "100/100 [==============================] - 7s 70ms/step - loss: 0.6898 - accuracy: 0.5355 - val_loss: 0.6831 - val_accuracy: 0.5340\n",
            "Epoch 2/30\n",
            "100/100 [==============================] - 7s 69ms/step - loss: 0.6564 - accuracy: 0.6180 - val_loss: 0.6509 - val_accuracy: 0.5920\n",
            "Epoch 3/30\n",
            "100/100 [==============================] - 7s 70ms/step - loss: 0.5983 - accuracy: 0.6810 - val_loss: 0.6147 - val_accuracy: 0.6600\n",
            "Epoch 4/30\n",
            "100/100 [==============================] - 7s 71ms/step - loss: 0.5635 - accuracy: 0.7170 - val_loss: 0.5869 - val_accuracy: 0.6930\n",
            "Epoch 5/30\n",
            "100/100 [==============================] - 7s 68ms/step - loss: 0.5341 - accuracy: 0.7370 - val_loss: 0.6612 - val_accuracy: 0.6440\n",
            "Epoch 6/30\n",
            "100/100 [==============================] - 7s 70ms/step - loss: 0.5091 - accuracy: 0.7455 - val_loss: 0.5984 - val_accuracy: 0.6840\n",
            "Epoch 7/30\n",
            "100/100 [==============================] - 7s 69ms/step - loss: 0.4758 - accuracy: 0.7755 - val_loss: 0.5789 - val_accuracy: 0.6980\n",
            "Epoch 8/30\n",
            "100/100 [==============================] - 7s 70ms/step - loss: 0.4541 - accuracy: 0.7780 - val_loss: 0.5591 - val_accuracy: 0.7180\n",
            "Epoch 9/30\n",
            "100/100 [==============================] - 7s 68ms/step - loss: 0.4191 - accuracy: 0.8070 - val_loss: 0.5782 - val_accuracy: 0.6960\n",
            "Epoch 10/30\n",
            "100/100 [==============================] - 7s 68ms/step - loss: 0.4011 - accuracy: 0.8175 - val_loss: 0.5468 - val_accuracy: 0.7250\n",
            "Epoch 11/30\n",
            "100/100 [==============================] - 7s 69ms/step - loss: 0.3681 - accuracy: 0.8530 - val_loss: 0.6052 - val_accuracy: 0.7100\n",
            "Epoch 12/30\n",
            "100/100 [==============================] - 7s 68ms/step - loss: 0.3560 - accuracy: 0.8460 - val_loss: 0.5658 - val_accuracy: 0.7450\n",
            "Epoch 13/30\n",
            "100/100 [==============================] - 7s 69ms/step - loss: 0.3318 - accuracy: 0.8540 - val_loss: 0.5403 - val_accuracy: 0.7280\n",
            "Epoch 14/30\n",
            "100/100 [==============================] - 7s 68ms/step - loss: 0.3005 - accuracy: 0.8770 - val_loss: 0.6385 - val_accuracy: 0.7240\n",
            "Epoch 15/30\n",
            "100/100 [==============================] - 7s 69ms/step - loss: 0.2765 - accuracy: 0.8890 - val_loss: 0.5924 - val_accuracy: 0.7230\n",
            "Epoch 16/30\n",
            "100/100 [==============================] - 7s 68ms/step - loss: 0.2576 - accuracy: 0.8955 - val_loss: 0.6117 - val_accuracy: 0.7290\n",
            "Epoch 17/30\n",
            "100/100 [==============================] - 7s 68ms/step - loss: 0.2344 - accuracy: 0.9075 - val_loss: 0.6060 - val_accuracy: 0.7220\n",
            "Epoch 18/30\n",
            "100/100 [==============================] - 7s 69ms/step - loss: 0.2190 - accuracy: 0.9205 - val_loss: 0.6658 - val_accuracy: 0.7350\n",
            "Epoch 19/30\n",
            "100/100 [==============================] - 7s 68ms/step - loss: 0.1857 - accuracy: 0.9335 - val_loss: 0.6497 - val_accuracy: 0.7280\n",
            "Epoch 20/30\n",
            "100/100 [==============================] - 7s 69ms/step - loss: 0.1746 - accuracy: 0.9350 - val_loss: 0.6531 - val_accuracy: 0.7340\n",
            "Epoch 21/30\n",
            "100/100 [==============================] - 7s 68ms/step - loss: 0.1568 - accuracy: 0.9415 - val_loss: 0.7210 - val_accuracy: 0.7240\n",
            "Epoch 22/30\n",
            "100/100 [==============================] - 7s 69ms/step - loss: 0.1342 - accuracy: 0.9540 - val_loss: 0.8844 - val_accuracy: 0.7110\n",
            "Epoch 23/30\n",
            "100/100 [==============================] - 7s 69ms/step - loss: 0.1243 - accuracy: 0.9560 - val_loss: 0.7603 - val_accuracy: 0.7440\n",
            "Epoch 24/30\n",
            "100/100 [==============================] - 7s 69ms/step - loss: 0.1052 - accuracy: 0.9665 - val_loss: 0.7275 - val_accuracy: 0.7430\n",
            "Epoch 25/30\n",
            "100/100 [==============================] - 7s 69ms/step - loss: 0.0905 - accuracy: 0.9700 - val_loss: 0.8157 - val_accuracy: 0.7240\n",
            "Epoch 26/30\n",
            "100/100 [==============================] - 7s 71ms/step - loss: 0.0724 - accuracy: 0.9795 - val_loss: 0.9804 - val_accuracy: 0.7090\n",
            "Epoch 27/30\n",
            "100/100 [==============================] - 7s 73ms/step - loss: 0.0702 - accuracy: 0.9815 - val_loss: 1.0978 - val_accuracy: 0.7180\n",
            "Epoch 28/30\n",
            "100/100 [==============================] - 7s 72ms/step - loss: 0.0566 - accuracy: 0.9840 - val_loss: 0.8936 - val_accuracy: 0.7300\n",
            "Epoch 29/30\n",
            "100/100 [==============================] - 7s 72ms/step - loss: 0.0471 - accuracy: 0.9900 - val_loss: 1.0191 - val_accuracy: 0.7100\n",
            "Epoch 30/30\n",
            "100/100 [==============================] - 7s 72ms/step - loss: 0.0418 - accuracy: 0.9890 - val_loss: 0.9905 - val_accuracy: 0.7350\n"
          ],
          "name": "stdout"
        }
      ]
    },
    {
      "cell_type": "code",
      "metadata": {
        "id": "nnK3bM0LyaWt",
        "colab_type": "code",
        "colab": {}
      },
      "source": [
        "#save model for later use\n",
        "model_one.save('cat_dog_mini_one1.h5')"
      ],
      "execution_count": 0,
      "outputs": []
    },
    {
      "cell_type": "code",
      "metadata": {
        "id": "tM8acOiA0PL0",
        "colab_type": "code",
        "colab": {
          "base_uri": "https://localhost:8080/",
          "height": 545
        },
        "outputId": "a63bc546-de9a-4ca5-a230-922eaae1df11"
      },
      "source": [
        "#Defining accuracy and loss graphs\n",
        "\n",
        "import matplotlib.pyplot as plt\n",
        "\n",
        "\n",
        "def acc_vloss(history_model = str):\n",
        "  acc = history_model.history['accuracy']\n",
        "  val_acc = history_model.history['val_accuracy']\n",
        "  loss = history_model.history['loss']\n",
        "  val_loss = history_model.history['val_loss']\n",
        "  epochs = range(1, len(acc) + 1)\n",
        "  plt.plot(epochs, acc, 'bo', label='Training acc')\n",
        "  plt.plot(epochs, val_acc, 'b', label='Validation acc')\n",
        "  plt.title('Training and validation accuracy')\n",
        "  plt.legend()\n",
        "  plt.figure()\n",
        "  plt.plot(epochs, loss, 'bo', label='Training loss')\n",
        "  plt.plot(epochs, val_loss, 'b', label='Validation loss')\n",
        "  plt.title('Training and validation loss')\n",
        "  plt.legend()\n",
        "  plt.show()\n",
        "  \n",
        "acc_vloss(history1)"
      ],
      "execution_count": 12,
      "outputs": [
        {
          "output_type": "display_data",
          "data": {
            "text/plain": [
              "<Figure size 432x288 with 1 Axes>"
            ],
            "image/png": "[encoded data removed]"
          },
          "metadata": {
            "tags": [],
            "needs_background": "light"
          }
        },
        {
          "output_type": "display_data",
          "data": {
            "text/plain": [
              "<Figure size 432x288 with 1 Axes>"
            ],
            "image/png": "[encoded data removed]"
          },
          "metadata": {
            "tags": [],
            "needs_background": "light"
          }
        }
      ]
    },
    {
      "cell_type": "code",
      "metadata": {
        "id": "lwI7qX0kzV79",
        "colab_type": "code",
        "colab": {}
      },
      "source": [
        "#model is overfitting badly\n",
        "#setting up data augmentation to mitigate overfitting on small dataset\n",
        "\n",
        "datagen = ImageDataGenerator(rotation_range=40,\n",
        "                           width_shift_range=0.2,\n",
        "                           height_shift_range=0.2,\n",
        "                           shear_range=0.2,\n",
        "                           zoom_range=0.2,\n",
        "                           horizontal_flip=True,\n",
        "                           fill_mode='nearest')"
      ],
      "execution_count": 0,
      "outputs": []
    },
    {
      "cell_type": "code",
      "metadata": {
        "id": "VxzOIcPw0pGO",
        "colab_type": "code",
        "colab": {}
      },
      "source": [
        "#new convnet with dropout layer to mitigate overfitting\n",
        "\n",
        "def convolutional_dropout_model(model_name =str):\n",
        "  model_name = Sequential()\n",
        "\n",
        "  model_name.add(Conv2D(32,\n",
        "                  kernel_size = (3, 3),\n",
        "                  activation = 'relu',\n",
        "                  input_shape = (150, 150, 3)))\n",
        "  model_name.add(MaxPooling2D(pool_size = (2,2), strides = (2,2)))\n",
        "\n",
        "  model_name.add(Conv2D(64, kernel_size = (3, 3), activation = 'relu'))\n",
        "  model_name.add(MaxPooling2D(pool_size = (2,2)))\n",
        "\n",
        "  model_name.add(Conv2D(128, kernel_size = (3, 3), activation = 'relu'))\n",
        "  model_name.add(MaxPooling2D(pool_size = (2,2)))\n",
        "\n",
        "  model_name.add(Conv2D(128, kernel_size = (3, 3), activation = 'relu'))\n",
        "  model_name.add(MaxPooling2D(pool_size = (2,2)))\n",
        "\n",
        "  model_name.add(Flatten())\n",
        "  model_name.add(Dropout(0.5))\n",
        "  model_name.add(Dense(512, activation = 'relu'))\n",
        "  model_name.add(Dense(1, activation = 'sigmoid'))\n",
        "\n",
        "  model_name.compile(optimizer = RMS, loss = 'binary_crossentropy', metrics = ['accuracy'])\n",
        "  return model_name"
      ],
      "execution_count": 0,
      "outputs": []
    },
    {
      "cell_type": "code",
      "metadata": {
        "id": "5Fp_N5VT1ABK",
        "colab_type": "code",
        "outputId": "cb625ad6-e745-46f4-bbdd-d3557acfba17",
        "colab": {
          "base_uri": "https://localhost:8080/",
          "height": 51
        }
      },
      "source": [
        "#Generating augmented images\n",
        "\n",
        "def create_train_datagen_aug():\n",
        "  train_datagen_aug = ImageDataGenerator(rescale=1./255,\n",
        "                                    rotation_range=40,\n",
        "                                    width_shift_range=0.2,\n",
        "                                    height_shift_range=0.2,\n",
        "                                    shear_range=0.2,\n",
        "                                    zoom_range=0.2,\n",
        "                                    horizontal_flip=True,)\n",
        "  return train_datagen_aug\n",
        "\n",
        "train_datagen_aug = create_train_datagen_aug()\n",
        "\n",
        "test_gen =create_test_datagen()\n",
        "\n",
        "train_generator = create_train_generator(32, (150, 150))\n",
        "\n",
        "validation_generator = create_validation_generator((150,150), 32)\n",
        "\n",
        "\n"
      ],
      "execution_count": 15,
      "outputs": [
        {
          "output_type": "stream",
          "text": [
            "Found 2000 images belonging to 2 classes.\n",
            "Found 1000 images belonging to 2 classes.\n"
          ],
          "name": "stdout"
        }
      ]
    },
    {
      "cell_type": "code",
      "metadata": {
        "id": "IwEEaU-GENDU",
        "colab_type": "code",
        "outputId": "4a87f310-18c3-4bfb-ba93-a9e353e58aff",
        "colab": {
          "base_uri": "https://localhost:8080/",
          "height": 1000
        }
      },
      "source": [
        "#training/fitting neural network with dropout layer\n",
        "\n",
        "model_two = convolutional_dropout_model('dropout_model')\n",
        "history2 = history(model_two, 100, 100, 50)"
      ],
      "execution_count": 16,
      "outputs": [
        {
          "output_type": "stream",
          "text": [
            "Epoch 1/100\n",
            "100/100 [==============================] - 7s 71ms/step - loss: 0.6920 - accuracy: 0.5250 - val_loss: 0.6774 - val_accuracy: 0.6110\n",
            "Epoch 2/100\n",
            "100/100 [==============================] - 7s 71ms/step - loss: 0.6723 - accuracy: 0.5880 - val_loss: 0.6844 - val_accuracy: 0.5460\n",
            "Epoch 3/100\n",
            "100/100 [==============================] - 7s 71ms/step - loss: 0.6518 - accuracy: 0.6175 - val_loss: 0.6432 - val_accuracy: 0.6300\n",
            "Epoch 4/100\n",
            "100/100 [==============================] - 7s 69ms/step - loss: 0.6146 - accuracy: 0.6725 - val_loss: 0.6536 - val_accuracy: 0.6010\n",
            "Epoch 5/100\n",
            "100/100 [==============================] - 7s 74ms/step - loss: 0.5914 - accuracy: 0.6800 - val_loss: 0.6140 - val_accuracy: 0.6690\n",
            "Epoch 6/100\n",
            "100/100 [==============================] - 7s 70ms/step - loss: 0.5616 - accuracy: 0.7055 - val_loss: 0.5922 - val_accuracy: 0.6860\n",
            "Epoch 7/100\n",
            "100/100 [==============================] - 7s 70ms/step - loss: 0.5359 - accuracy: 0.7275 - val_loss: 0.5854 - val_accuracy: 0.6930\n",
            "Epoch 8/100\n",
            "100/100 [==============================] - 7s 72ms/step - loss: 0.5165 - accuracy: 0.7435 - val_loss: 0.5798 - val_accuracy: 0.6920\n",
            "Epoch 9/100\n",
            "100/100 [==============================] - 7s 71ms/step - loss: 0.5040 - accuracy: 0.7610 - val_loss: 0.5776 - val_accuracy: 0.7000\n",
            "Epoch 10/100\n",
            "100/100 [==============================] - 7s 72ms/step - loss: 0.4843 - accuracy: 0.7660 - val_loss: 0.5572 - val_accuracy: 0.7180\n",
            "Epoch 11/100\n",
            "100/100 [==============================] - 7s 71ms/step - loss: 0.4653 - accuracy: 0.7775 - val_loss: 0.6105 - val_accuracy: 0.6850\n",
            "Epoch 12/100\n",
            "100/100 [==============================] - 7s 72ms/step - loss: 0.4442 - accuracy: 0.7945 - val_loss: 0.5602 - val_accuracy: 0.7180\n",
            "Epoch 13/100\n",
            "100/100 [==============================] - 7s 74ms/step - loss: 0.4287 - accuracy: 0.7960 - val_loss: 0.5437 - val_accuracy: 0.7230\n",
            "Epoch 14/100\n",
            "100/100 [==============================] - 7s 72ms/step - loss: 0.4128 - accuracy: 0.8080 - val_loss: 0.5782 - val_accuracy: 0.7110\n",
            "Epoch 15/100\n",
            "100/100 [==============================] - 7s 72ms/step - loss: 0.3983 - accuracy: 0.8210 - val_loss: 0.5402 - val_accuracy: 0.7340\n",
            "Epoch 16/100\n",
            "100/100 [==============================] - 7s 73ms/step - loss: 0.3765 - accuracy: 0.8320 - val_loss: 0.5637 - val_accuracy: 0.7270\n",
            "Epoch 17/100\n",
            "100/100 [==============================] - 7s 72ms/step - loss: 0.3618 - accuracy: 0.8325 - val_loss: 0.5739 - val_accuracy: 0.7210\n",
            "Epoch 18/100\n",
            "100/100 [==============================] - 7s 72ms/step - loss: 0.3584 - accuracy: 0.8475 - val_loss: 0.5386 - val_accuracy: 0.7440\n",
            "Epoch 19/100\n",
            "100/100 [==============================] - 7s 72ms/step - loss: 0.3372 - accuracy: 0.8585 - val_loss: 0.5499 - val_accuracy: 0.7450\n",
            "Epoch 20/100\n",
            "100/100 [==============================] - 7s 71ms/step - loss: 0.3227 - accuracy: 0.8630 - val_loss: 0.5406 - val_accuracy: 0.7480\n",
            "Epoch 21/100\n",
            "100/100 [==============================] - 7s 75ms/step - loss: 0.2973 - accuracy: 0.8740 - val_loss: 0.5569 - val_accuracy: 0.7500\n",
            "Epoch 22/100\n",
            "100/100 [==============================] - 7s 72ms/step - loss: 0.3070 - accuracy: 0.8670 - val_loss: 0.5441 - val_accuracy: 0.7460\n",
            "Epoch 23/100\n",
            "100/100 [==============================] - 7s 73ms/step - loss: 0.2857 - accuracy: 0.8790 - val_loss: 0.5643 - val_accuracy: 0.7540\n",
            "Epoch 24/100\n",
            "100/100 [==============================] - 7s 74ms/step - loss: 0.2793 - accuracy: 0.8815 - val_loss: 0.5677 - val_accuracy: 0.7460\n",
            "Epoch 25/100\n",
            "100/100 [==============================] - 8s 75ms/step - loss: 0.2575 - accuracy: 0.8895 - val_loss: 0.5845 - val_accuracy: 0.7520\n",
            "Epoch 26/100\n",
            "100/100 [==============================] - 7s 73ms/step - loss: 0.2452 - accuracy: 0.9040 - val_loss: 0.5602 - val_accuracy: 0.7480\n",
            "Epoch 27/100\n",
            "100/100 [==============================] - 7s 74ms/step - loss: 0.2316 - accuracy: 0.9060 - val_loss: 0.5795 - val_accuracy: 0.7400\n",
            "Epoch 28/100\n",
            "100/100 [==============================] - 7s 71ms/step - loss: 0.2322 - accuracy: 0.9040 - val_loss: 0.6344 - val_accuracy: 0.7370\n",
            "Epoch 29/100\n",
            "100/100 [==============================] - 7s 71ms/step - loss: 0.2098 - accuracy: 0.9165 - val_loss: 0.6076 - val_accuracy: 0.7480\n",
            "Epoch 30/100\n",
            "100/100 [==============================] - 7s 69ms/step - loss: 0.2026 - accuracy: 0.9135 - val_loss: 0.5931 - val_accuracy: 0.7530\n",
            "Epoch 31/100\n",
            "100/100 [==============================] - 7s 68ms/step - loss: 0.1947 - accuracy: 0.9300 - val_loss: 0.6758 - val_accuracy: 0.7420\n",
            "Epoch 32/100\n",
            "100/100 [==============================] - 7s 69ms/step - loss: 0.1799 - accuracy: 0.9305 - val_loss: 0.7567 - val_accuracy: 0.7160\n",
            "Epoch 33/100\n",
            "100/100 [==============================] - 7s 68ms/step - loss: 0.1741 - accuracy: 0.9260 - val_loss: 0.6523 - val_accuracy: 0.7490\n",
            "Epoch 34/100\n",
            "100/100 [==============================] - 7s 70ms/step - loss: 0.1673 - accuracy: 0.9350 - val_loss: 0.6328 - val_accuracy: 0.7500\n",
            "Epoch 35/100\n",
            "100/100 [==============================] - 7s 69ms/step - loss: 0.1637 - accuracy: 0.9360 - val_loss: 0.6864 - val_accuracy: 0.7400\n",
            "Epoch 36/100\n",
            "100/100 [==============================] - 7s 68ms/step - loss: 0.1720 - accuracy: 0.9320 - val_loss: 0.6132 - val_accuracy: 0.7600\n",
            "Epoch 37/100\n",
            "100/100 [==============================] - 7s 68ms/step - loss: 0.1443 - accuracy: 0.9435 - val_loss: 0.7439 - val_accuracy: 0.7360\n",
            "Epoch 38/100\n",
            "100/100 [==============================] - 7s 70ms/step - loss: 0.1367 - accuracy: 0.9455 - val_loss: 0.7802 - val_accuracy: 0.7210\n",
            "Epoch 39/100\n",
            "100/100 [==============================] - 7s 70ms/step - loss: 0.1319 - accuracy: 0.9490 - val_loss: 0.6770 - val_accuracy: 0.7650\n",
            "Epoch 40/100\n",
            "100/100 [==============================] - 7s 72ms/step - loss: 0.1300 - accuracy: 0.9520 - val_loss: 0.7145 - val_accuracy: 0.7600\n",
            "Epoch 41/100\n",
            "100/100 [==============================] - 7s 66ms/step - loss: 0.1167 - accuracy: 0.9535 - val_loss: 0.7370 - val_accuracy: 0.7480\n",
            "Epoch 42/100\n",
            "100/100 [==============================] - 6s 63ms/step - loss: 0.1166 - accuracy: 0.9575 - val_loss: 0.6963 - val_accuracy: 0.7530\n",
            "Epoch 43/100\n",
            "100/100 [==============================] - 6s 63ms/step - loss: 0.1149 - accuracy: 0.9595 - val_loss: 0.6603 - val_accuracy: 0.7670\n",
            "Epoch 44/100\n",
            "100/100 [==============================] - 6s 63ms/step - loss: 0.1180 - accuracy: 0.9515 - val_loss: 0.7099 - val_accuracy: 0.7600\n",
            "Epoch 45/100\n",
            "100/100 [==============================] - 6s 62ms/step - loss: 0.1074 - accuracy: 0.9600 - val_loss: 0.7873 - val_accuracy: 0.7380\n",
            "Epoch 46/100\n",
            "100/100 [==============================] - 6s 62ms/step - loss: 0.1084 - accuracy: 0.9565 - val_loss: 0.6951 - val_accuracy: 0.7670\n",
            "Epoch 47/100\n",
            "100/100 [==============================] - 6s 64ms/step - loss: 0.0836 - accuracy: 0.9700 - val_loss: 0.8260 - val_accuracy: 0.7490\n",
            "Epoch 48/100\n",
            "100/100 [==============================] - 6s 64ms/step - loss: 0.0934 - accuracy: 0.9625 - val_loss: 0.8260 - val_accuracy: 0.7450\n",
            "Epoch 49/100\n",
            "100/100 [==============================] - 6s 62ms/step - loss: 0.0853 - accuracy: 0.9735 - val_loss: 0.8162 - val_accuracy: 0.7470\n",
            "Epoch 50/100\n",
            "100/100 [==============================] - 6s 62ms/step - loss: 0.0851 - accuracy: 0.9670 - val_loss: 0.7479 - val_accuracy: 0.7660\n",
            "Epoch 51/100\n",
            "100/100 [==============================] - 6s 64ms/step - loss: 0.0774 - accuracy: 0.9705 - val_loss: 0.7679 - val_accuracy: 0.7680\n",
            "Epoch 52/100\n",
            "100/100 [==============================] - 6s 62ms/step - loss: 0.0740 - accuracy: 0.9770 - val_loss: 0.7940 - val_accuracy: 0.7650\n",
            "Epoch 53/100\n",
            "100/100 [==============================] - 6s 64ms/step - loss: 0.0723 - accuracy: 0.9770 - val_loss: 0.9003 - val_accuracy: 0.7600\n",
            "Epoch 54/100\n",
            "100/100 [==============================] - 7s 70ms/step - loss: 0.0765 - accuracy: 0.9695 - val_loss: 0.8573 - val_accuracy: 0.7630\n",
            "Epoch 55/100\n",
            "100/100 [==============================] - 7s 73ms/step - loss: 0.0687 - accuracy: 0.9760 - val_loss: 0.8540 - val_accuracy: 0.7600\n",
            "Epoch 56/100\n",
            "100/100 [==============================] - 7s 70ms/step - loss: 0.0552 - accuracy: 0.9820 - val_loss: 0.8678 - val_accuracy: 0.7540\n",
            "Epoch 57/100\n",
            "100/100 [==============================] - 7s 70ms/step - loss: 0.0642 - accuracy: 0.9790 - val_loss: 0.8144 - val_accuracy: 0.7720\n",
            "Epoch 58/100\n",
            "100/100 [==============================] - 7s 72ms/step - loss: 0.0616 - accuracy: 0.9795 - val_loss: 0.8343 - val_accuracy: 0.7590\n",
            "Epoch 59/100\n",
            "100/100 [==============================] - 7s 72ms/step - loss: 0.0657 - accuracy: 0.9760 - val_loss: 0.9375 - val_accuracy: 0.7510\n",
            "Epoch 60/100\n",
            "100/100 [==============================] - 7s 73ms/step - loss: 0.0526 - accuracy: 0.9825 - val_loss: 0.9256 - val_accuracy: 0.7690\n",
            "Epoch 61/100\n",
            "100/100 [==============================] - 7s 70ms/step - loss: 0.0577 - accuracy: 0.9770 - val_loss: 0.8910 - val_accuracy: 0.7640\n",
            "Epoch 62/100\n",
            "100/100 [==============================] - 7s 72ms/step - loss: 0.0513 - accuracy: 0.9830 - val_loss: 0.8801 - val_accuracy: 0.7680\n",
            "Epoch 63/100\n",
            "100/100 [==============================] - 7s 69ms/step - loss: 0.0567 - accuracy: 0.9830 - val_loss: 0.8750 - val_accuracy: 0.7710\n",
            "Epoch 64/100\n",
            "100/100 [==============================] - 7s 71ms/step - loss: 0.0454 - accuracy: 0.9850 - val_loss: 0.9686 - val_accuracy: 0.7520\n",
            "Epoch 65/100\n",
            "100/100 [==============================] - 7s 72ms/step - loss: 0.0483 - accuracy: 0.9840 - val_loss: 1.0360 - val_accuracy: 0.7530\n",
            "Epoch 66/100\n",
            "100/100 [==============================] - 7s 71ms/step - loss: 0.0610 - accuracy: 0.9770 - val_loss: 0.9098 - val_accuracy: 0.7620\n",
            "Epoch 67/100\n",
            "100/100 [==============================] - 7s 70ms/step - loss: 0.0424 - accuracy: 0.9815 - val_loss: 1.0025 - val_accuracy: 0.7570\n",
            "Epoch 68/100\n",
            "100/100 [==============================] - 7s 68ms/step - loss: 0.0468 - accuracy: 0.9835 - val_loss: 0.9278 - val_accuracy: 0.7710\n",
            "Epoch 69/100\n",
            "100/100 [==============================] - 7s 70ms/step - loss: 0.0470 - accuracy: 0.9850 - val_loss: 0.9422 - val_accuracy: 0.7700\n",
            "Epoch 70/100\n",
            "100/100 [==============================] - 7s 72ms/step - loss: 0.0431 - accuracy: 0.9855 - val_loss: 1.0323 - val_accuracy: 0.7480\n",
            "Epoch 71/100\n",
            "100/100 [==============================] - 7s 72ms/step - loss: 0.0366 - accuracy: 0.9870 - val_loss: 0.9569 - val_accuracy: 0.7710\n",
            "Epoch 72/100\n",
            "100/100 [==============================] - 7s 70ms/step - loss: 0.0391 - accuracy: 0.9845 - val_loss: 1.1433 - val_accuracy: 0.7410\n",
            "Epoch 73/100\n",
            "100/100 [==============================] - 7s 69ms/step - loss: 0.0441 - accuracy: 0.9820 - val_loss: 0.9670 - val_accuracy: 0.7690\n",
            "Epoch 74/100\n",
            "100/100 [==============================] - 7s 71ms/step - loss: 0.0414 - accuracy: 0.9835 - val_loss: 0.9991 - val_accuracy: 0.7760\n",
            "Epoch 75/100\n",
            "100/100 [==============================] - 7s 69ms/step - loss: 0.0364 - accuracy: 0.9870 - val_loss: 1.2273 - val_accuracy: 0.7360\n",
            "Epoch 76/100\n",
            "100/100 [==============================] - 7s 69ms/step - loss: 0.0386 - accuracy: 0.9870 - val_loss: 0.9508 - val_accuracy: 0.7770\n",
            "Epoch 77/100\n",
            "100/100 [==============================] - 7s 69ms/step - loss: 0.0442 - accuracy: 0.9835 - val_loss: 1.0001 - val_accuracy: 0.7640\n",
            "Epoch 78/100\n",
            "100/100 [==============================] - 7s 71ms/step - loss: 0.0333 - accuracy: 0.9875 - val_loss: 1.0891 - val_accuracy: 0.7660\n",
            "Epoch 79/100\n",
            "100/100 [==============================] - 7s 69ms/step - loss: 0.0363 - accuracy: 0.9880 - val_loss: 1.0657 - val_accuracy: 0.7690\n",
            "Epoch 80/100\n",
            "100/100 [==============================] - 7s 71ms/step - loss: 0.0309 - accuracy: 0.9895 - val_loss: 1.0064 - val_accuracy: 0.7830\n",
            "Epoch 81/100\n",
            "100/100 [==============================] - 7s 74ms/step - loss: 0.0381 - accuracy: 0.9875 - val_loss: 1.0796 - val_accuracy: 0.7750\n",
            "Epoch 82/100\n",
            "100/100 [==============================] - 8s 75ms/step - loss: 0.0373 - accuracy: 0.9860 - val_loss: 1.0360 - val_accuracy: 0.7690\n",
            "Epoch 83/100\n",
            "100/100 [==============================] - 7s 73ms/step - loss: 0.0359 - accuracy: 0.9850 - val_loss: 1.0017 - val_accuracy: 0.7660\n",
            "Epoch 84/100\n",
            "100/100 [==============================] - 7s 73ms/step - loss: 0.0270 - accuracy: 0.9915 - val_loss: 1.0629 - val_accuracy: 0.7700\n",
            "Epoch 85/100\n",
            "100/100 [==============================] - 8s 75ms/step - loss: 0.0333 - accuracy: 0.9880 - val_loss: 1.1563 - val_accuracy: 0.7680\n",
            "Epoch 86/100\n",
            "100/100 [==============================] - 7s 75ms/step - loss: 0.0365 - accuracy: 0.9860 - val_loss: 1.0961 - val_accuracy: 0.7610\n",
            "Epoch 87/100\n",
            "100/100 [==============================] - 7s 74ms/step - loss: 0.0324 - accuracy: 0.9915 - val_loss: 1.0454 - val_accuracy: 0.7780\n",
            "Epoch 88/100\n",
            "100/100 [==============================] - 7s 72ms/step - loss: 0.0279 - accuracy: 0.9915 - val_loss: 1.0075 - val_accuracy: 0.7720\n",
            "Epoch 89/100\n",
            "100/100 [==============================] - 7s 73ms/step - loss: 0.0342 - accuracy: 0.9910 - val_loss: 1.0332 - val_accuracy: 0.7790\n",
            "Epoch 90/100\n",
            "100/100 [==============================] - 7s 74ms/step - loss: 0.0310 - accuracy: 0.9875 - val_loss: 1.1028 - val_accuracy: 0.7670\n",
            "Epoch 91/100\n",
            "100/100 [==============================] - 7s 73ms/step - loss: 0.0282 - accuracy: 0.9875 - val_loss: 1.1524 - val_accuracy: 0.7680\n",
            "Epoch 92/100\n",
            "100/100 [==============================] - 7s 72ms/step - loss: 0.0360 - accuracy: 0.9855 - val_loss: 1.0468 - val_accuracy: 0.7710\n",
            "Epoch 93/100\n",
            "100/100 [==============================] - 7s 74ms/step - loss: 0.0283 - accuracy: 0.9915 - val_loss: 1.1234 - val_accuracy: 0.7570\n",
            "Epoch 94/100\n",
            "100/100 [==============================] - 7s 74ms/step - loss: 0.0316 - accuracy: 0.9875 - val_loss: 1.0863 - val_accuracy: 0.7760\n",
            "Epoch 95/100\n",
            "100/100 [==============================] - 8s 76ms/step - loss: 0.0268 - accuracy: 0.9920 - val_loss: 1.0683 - val_accuracy: 0.7720\n",
            "Epoch 96/100\n",
            "100/100 [==============================] - 7s 71ms/step - loss: 0.0285 - accuracy: 0.9895 - val_loss: 1.0748 - val_accuracy: 0.7840\n",
            "Epoch 97/100\n",
            "100/100 [==============================] - 7s 70ms/step - loss: 0.0249 - accuracy: 0.9905 - val_loss: 1.1091 - val_accuracy: 0.7700\n",
            "Epoch 98/100\n",
            "100/100 [==============================] - 7s 71ms/step - loss: 0.0287 - accuracy: 0.9890 - val_loss: 1.1643 - val_accuracy: 0.7740\n",
            "Epoch 99/100\n",
            "100/100 [==============================] - 7s 71ms/step - loss: 0.0265 - accuracy: 0.9905 - val_loss: 1.2826 - val_accuracy: 0.7710\n",
            "Epoch 100/100\n",
            "100/100 [==============================] - 7s 70ms/step - loss: 0.0223 - accuracy: 0.9910 - val_loss: 1.1176 - val_accuracy: 0.7740\n"
          ],
          "name": "stdout"
        }
      ]
    },
    {
      "cell_type": "code",
      "metadata": {
        "id": "Y35JcDFNEowN",
        "colab_type": "code",
        "colab": {}
      },
      "source": [
        "#saving second model\n",
        "model_two.save('cat_dog_mini_two2.h5')"
      ],
      "execution_count": 0,
      "outputs": []
    },
    {
      "cell_type": "code",
      "metadata": {
        "id": "VILpRYMbDlhY",
        "colab_type": "code",
        "colab": {
          "base_uri": "https://localhost:8080/",
          "height": 545
        },
        "outputId": "7dedc918-7a14-4f53-a30c-bca75ef928c3"
      },
      "source": [
        "#plot accuracy and loss\n",
        "acc_vloss(history2)"
      ],
      "execution_count": 18,
      "outputs": [
        {
          "output_type": "display_data",
          "data": {
            "text/plain": [
              "<Figure size 432x288 with 1 Axes>"
            ],
            "image/png": "[encoded data removed]"
          },
          "metadata": {
            "tags": [],
            "needs_background": "light"
          }
        },
        {
          "output_type": "display_data",
          "data": {
            "text/plain": [
              "<Figure size 432x288 with 1 Axes>"
            ],
            "image/png": "[encoded data removed]"
          },
          "metadata": {
            "tags": [],
            "needs_background": "light"
          }
        }
      ]
    },
    {
      "cell_type": "code",
      "metadata": {
        "id": "CDvvg4zodcTl",
        "colab_type": "code",
        "outputId": "203eea8c-657f-4665-b4ac-02d86b13f6a1",
        "colab": {
          "base_uri": "https://localhost:8080/",
          "height": 799
        }
      },
      "source": [
        "#Using a pretrained model\n",
        "\n",
        "from tensorflow.keras.applications import VGG16\n",
        "\n",
        "#instantiating VGG16 convolutional base with 14.7 mil parameters\n",
        "\n",
        "convolutional_base = VGG16(weights = 'imagenet',\n",
        "                            include_top = False,\n",
        "                            input_shape = (150, 150, 3))\n",
        "\n",
        "convolutional_base.summary()"
      ],
      "execution_count": 19,
      "outputs": [
        {
          "output_type": "stream",
          "text": [
            "Model: \"vgg16\"\n",
            "_________________________________________________________________\n",
            "Layer (type)                 Output Shape              Param #   \n",
            "=================================================================\n",
            "input_1 (InputLayer)         [(None, 150, 150, 3)]     0         \n",
            "_________________________________________________________________\n",
            "block1_conv1 (Conv2D)        (None, 150, 150, 64)      1792      \n",
            "_________________________________________________________________\n",
            "block1_conv2 (Conv2D)        (None, 150, 150, 64)      36928     \n",
            "_________________________________________________________________\n",
            "block1_pool (MaxPooling2D)   (None, 75, 75, 64)        0         \n",
            "_________________________________________________________________\n",
            "block2_conv1 (Conv2D)        (None, 75, 75, 128)       73856     \n",
            "_________________________________________________________________\n",
            "block2_conv2 (Conv2D)        (None, 75, 75, 128)       147584    \n",
            "_________________________________________________________________\n",
            "block2_pool (MaxPooling2D)   (None, 37, 37, 128)       0         \n",
            "_________________________________________________________________\n",
            "block3_conv1 (Conv2D)        (None, 37, 37, 256)       295168    \n",
            "_________________________________________________________________\n",
            "block3_conv2 (Conv2D)        (None, 37, 37, 256)       590080    \n",
            "_________________________________________________________________\n",
            "block3_conv3 (Conv2D)        (None, 37, 37, 256)       590080    \n",
            "_________________________________________________________________\n",
            "block3_pool (MaxPooling2D)   (None, 18, 18, 256)       0         \n",
            "_________________________________________________________________\n",
            "block4_conv1 (Conv2D)        (None, 18, 18, 512)       1180160   \n",
            "_________________________________________________________________\n",
            "block4_conv2 (Conv2D)        (None, 18, 18, 512)       2359808   \n",
            "_________________________________________________________________\n",
            "block4_conv3 (Conv2D)        (None, 18, 18, 512)       2359808   \n",
            "_________________________________________________________________\n",
            "block4_pool (MaxPooling2D)   (None, 9, 9, 512)         0         \n",
            "_________________________________________________________________\n",
            "block5_conv1 (Conv2D)        (None, 9, 9, 512)         2359808   \n",
            "_________________________________________________________________\n",
            "block5_conv2 (Conv2D)        (None, 9, 9, 512)         2359808   \n",
            "_________________________________________________________________\n",
            "block5_conv3 (Conv2D)        (None, 9, 9, 512)         2359808   \n",
            "_________________________________________________________________\n",
            "block5_pool (MaxPooling2D)   (None, 4, 4, 512)         0         \n",
            "=================================================================\n",
            "Total params: 14,714,688\n",
            "Trainable params: 14,714,688\n",
            "Non-trainable params: 0\n",
            "_________________________________________________________________\n"
          ],
          "name": "stdout"
        }
      ]
    },
    {
      "cell_type": "markdown",
      "metadata": {
        "id": "uFdFWsAjvS_R",
        "colab_type": "text"
      },
      "source": [
        "Adding convolutionaal base model to neural network without data augmentation for demo purposes"
      ]
    },
    {
      "cell_type": "code",
      "metadata": {
        "id": "L4c8RCWYjUpo",
        "colab_type": "code",
        "colab": {}
      },
      "source": [
        "#extracting features with pretrained model\n",
        "#recording the convolutional base output to np.array\n",
        "\n",
        "#datagen = ImageDataGenerator(rescale=1./255)\n",
        "#batch_size = 20\n",
        "\n",
        "#def extract_features(directory, sample_count):\n",
        "  #features = np.zeros(shape=(sample_count, 4, 4, 512))\n",
        "  #labels = np.zeros(shape=(sample_count))\n",
        "  #generator = datagen.flow_from_directory(\n",
        "  #directory,\n",
        "  #target_size=(150, 150),\n",
        "  #batch_size=batch_size,\n",
        "  #class_mode='binary')\n",
        "\n",
        "  #i = 0\n",
        "\n",
        "  #for inputs_batch, labels_batch in generator:\n",
        "    #features_batch = convolutional_base.predict(inputs_batch) #calling predict extracts features\n",
        "    #features[i * batch_size : (i + 1) * batch_size] = features_batch\n",
        "    #labels[i * batch_size : (i + 1) * batch_size] = labels_batch\n",
        "    #i += 1\n",
        "\n",
        "    #if i * batch_size >= sample_count:\n",
        "      #break\n",
        "\n",
        "  #return features, labels\n",
        "\n",
        "#train_features, train_labels = extract_features(train_dir, 2000)\n",
        "\n",
        "#validation_features, validation_labels = extract_features(validation_dir, 1000)\n",
        "\n",
        "#test_features, test_labels = extract_features(test_dir, 1000)"
      ],
      "execution_count": 0,
      "outputs": []
    },
    {
      "cell_type": "code",
      "metadata": {
        "id": "QwHG1SGbbJXI",
        "colab_type": "code",
        "colab": {}
      },
      "source": [
        "#Defining new model eith Dense layers to compliment VGG16 convolutional base\n",
        "\n",
        "#RMS = RMSprop(lr = 2e-5)\n",
        "#def VGG16_base_dense():\n",
        "  #model = Sequential()\n",
        "\n",
        "  #model.add(Dense(256, activation = 'relu', input_dim = 4 * 4 * 512))\n",
        "  #model.add(Dropout(0.5))\n",
        "  #model.add(Dense(1, activation = 'sigmoid'))\n",
        "\n",
        "  #model.compile(optimizer = RMS, loss = 'binary_crossentropy', metrics = ['accuracy'])\n",
        "  #return model"
      ],
      "execution_count": 0,
      "outputs": []
    },
    {
      "cell_type": "code",
      "metadata": {
        "id": "8xCyqB6ymhZr",
        "colab_type": "code",
        "colab": {}
      },
      "source": [
        "#training third model with VGG16 convolutional base, no data augmentation\n",
        "\n",
        "#model_three = VGG16_base_dense()\n",
        "\n",
        "#history3 = history = model_three.fit(train_features, train_labels,\n",
        "#                               epochs = 30,\n",
        "#                               batch_size =20,\n",
        "#                               validation_data =(validation_features, validation_labels))"
      ],
      "execution_count": 0,
      "outputs": []
    },
    {
      "cell_type": "code",
      "metadata": {
        "id": "sX8Yy8CVok4d",
        "colab_type": "code",
        "colab": {}
      },
      "source": [
        "#acc_vloss()"
      ],
      "execution_count": 0,
      "outputs": []
    },
    {
      "cell_type": "code",
      "metadata": {
        "id": "0ytaaUD_DDdM",
        "colab_type": "code",
        "colab": {}
      },
      "source": [
        "#model_three.save('cat_dog_mini_three.h5')"
      ],
      "execution_count": 0,
      "outputs": []
    },
    {
      "cell_type": "markdown",
      "metadata": {
        "id": "BIH7sgzUD_V4",
        "colab_type": "text"
      },
      "source": [
        "#Using a pretrained model with data augmentation"
      ]
    },
    {
      "cell_type": "code",
      "metadata": {
        "id": "F5FRfAkQpN1w",
        "colab_type": "code",
        "colab": {
          "base_uri": "https://localhost:8080/",
          "height": 34
        },
        "outputId": "0fc9ec6b-305f-4152-e804-0fc82078a114"
      },
      "source": [
        "\n",
        "#This method is slower and more expensive but allows data augmentation during training, which is great for smaller datasets\n",
        "#Adding convolutional base and Dense layers\n",
        "\n",
        "def convolutional_base_dense_model(model_name = str):\n",
        "  model_name = Sequential()\n",
        "\n",
        "  model_name.add(convolutional_base)\n",
        "  model_name.add(Flatten())\n",
        "  model_name.add(Dense(256, activation = 'relu'))\n",
        "  model_name.add(Dense(1, activation = 'sigmoid'))\n",
        "  return model_name\n",
        "\n",
        "#Freezing convolutional_base trainable parameters  \n",
        "convolutional_base.trainable = False\n"
      ],
      "execution_count": 26,
      "outputs": [
        {
          "output_type": "execute_result",
          "data": {
            "text/plain": [
              "0"
            ]
          },
          "metadata": {
            "tags": []
          },
          "execution_count": 26
        }
      ]
    },
    {
      "cell_type": "code",
      "metadata": {
        "id": "xp_ew9kRwNU7",
        "colab_type": "code",
        "outputId": "ec309981-695c-49d6-9455-331a4457ebd9",
        "colab": {
          "base_uri": "https://localhost:8080/",
          "height": 51
        }
      },
      "source": [
        "train_datagen_aug = create_train_datagen_aug()\n",
        "\n",
        "test_datagen = create_test_datagen()\n",
        "\n",
        "train_generator = create_train_generator(20, (150, 150), 'binary')\n",
        "\n",
        "validation_generator = create_validation_generator(20, (150, 150), 'binary')"
      ],
      "execution_count": 27,
      "outputs": [
        {
          "output_type": "stream",
          "text": [
            "Found 2000 images belonging to 2 classes.\n",
            "Found 1000 images belonging to 2 classes.\n"
          ],
          "name": "stdout"
        }
      ]
    },
    {
      "cell_type": "code",
      "metadata": {
        "id": "mczz0AzmwEwU",
        "colab_type": "code",
        "colab": {}
      },
      "source": [
        "model_four = convolutional_base_dense_model('trained_plus')\n",
        "\n",
        "model_four.compile(optimizer = RMS,\n",
        "              loss = 'binary_crossentropy',\n",
        "              metrics = ['accuracy'])"
      ],
      "execution_count": 0,
      "outputs": []
    },
    {
      "cell_type": "code",
      "metadata": {
        "id": "5n4P7w12t2TQ",
        "colab_type": "code",
        "outputId": "888a80ab-04cc-45ca-fd53-23ee7231c22f",
        "colab": {
          "base_uri": "https://localhost:8080/",
          "height": 1000
        }
      },
      "source": [
        "history4 = history(model_four, 100, 30, 50)"
      ],
      "execution_count": 30,
      "outputs": [
        {
          "output_type": "stream",
          "text": [
            "Epoch 1/30\n",
            "100/100 [==============================] - 9s 92ms/step - loss: 0.4118 - accuracy: 0.8110 - val_loss: 0.3671 - val_accuracy: 0.8400\n",
            "Epoch 2/30\n",
            "100/100 [==============================] - 9s 93ms/step - loss: 0.2425 - accuracy: 0.9025 - val_loss: 0.2822 - val_accuracy: 0.8820\n",
            "Epoch 3/30\n",
            "100/100 [==============================] - 9s 88ms/step - loss: 0.1878 - accuracy: 0.9285 - val_loss: 0.2982 - val_accuracy: 0.8730\n",
            "Epoch 4/30\n",
            "100/100 [==============================] - 9s 86ms/step - loss: 0.1475 - accuracy: 0.9485 - val_loss: 0.2406 - val_accuracy: 0.8940\n",
            "Epoch 5/30\n",
            "100/100 [==============================] - 9s 89ms/step - loss: 0.1183 - accuracy: 0.9565 - val_loss: 0.2674 - val_accuracy: 0.8980\n",
            "Epoch 6/30\n",
            "100/100 [==============================] - 9s 90ms/step - loss: 0.0928 - accuracy: 0.9705 - val_loss: 0.2918 - val_accuracy: 0.8870\n",
            "Epoch 7/30\n",
            "100/100 [==============================] - 9s 90ms/step - loss: 0.0796 - accuracy: 0.9720 - val_loss: 0.2577 - val_accuracy: 0.8960\n",
            "Epoch 8/30\n",
            "100/100 [==============================] - 9s 91ms/step - loss: 0.0583 - accuracy: 0.9825 - val_loss: 0.2815 - val_accuracy: 0.8890\n",
            "Epoch 9/30\n",
            "100/100 [==============================] - 9s 92ms/step - loss: 0.0497 - accuracy: 0.9885 - val_loss: 0.3010 - val_accuracy: 0.8930\n",
            "Epoch 10/30\n",
            "100/100 [==============================] - 9s 94ms/step - loss: 0.0360 - accuracy: 0.9915 - val_loss: 0.4121 - val_accuracy: 0.8650\n",
            "Epoch 11/30\n",
            "100/100 [==============================] - 9s 94ms/step - loss: 0.0313 - accuracy: 0.9930 - val_loss: 0.2871 - val_accuracy: 0.8940\n",
            "Epoch 12/30\n",
            "100/100 [==============================] - 10s 96ms/step - loss: 0.0223 - accuracy: 0.9975 - val_loss: 0.2944 - val_accuracy: 0.9020\n",
            "Epoch 13/30\n",
            "100/100 [==============================] - 10s 96ms/step - loss: 0.0199 - accuracy: 0.9980 - val_loss: 0.3180 - val_accuracy: 0.8980\n",
            "Epoch 14/30\n",
            "100/100 [==============================] - 9s 92ms/step - loss: 0.0154 - accuracy: 0.9990 - val_loss: 0.3065 - val_accuracy: 0.9010\n",
            "Epoch 15/30\n",
            "100/100 [==============================] - 9s 91ms/step - loss: 0.0098 - accuracy: 1.0000 - val_loss: 0.3243 - val_accuracy: 0.9040\n",
            "Epoch 16/30\n",
            "100/100 [==============================] - 9s 91ms/step - loss: 0.0078 - accuracy: 1.0000 - val_loss: 0.3764 - val_accuracy: 0.8880\n",
            "Epoch 17/30\n",
            "100/100 [==============================] - 9s 91ms/step - loss: 0.0069 - accuracy: 0.9995 - val_loss: 0.3779 - val_accuracy: 0.9030\n",
            "Epoch 18/30\n",
            "100/100 [==============================] - 9s 91ms/step - loss: 0.0056 - accuracy: 0.9995 - val_loss: 0.3745 - val_accuracy: 0.9050\n",
            "Epoch 19/30\n",
            "100/100 [==============================] - 9s 93ms/step - loss: 0.0033 - accuracy: 1.0000 - val_loss: 0.3859 - val_accuracy: 0.9030\n",
            "Epoch 20/30\n",
            "100/100 [==============================] - 9s 92ms/step - loss: 0.0027 - accuracy: 1.0000 - val_loss: 0.4017 - val_accuracy: 0.9070\n",
            "Epoch 21/30\n",
            "100/100 [==============================] - 9s 92ms/step - loss: 0.0021 - accuracy: 1.0000 - val_loss: 0.4264 - val_accuracy: 0.8910\n",
            "Epoch 22/30\n",
            "100/100 [==============================] - 9s 92ms/step - loss: 0.0020 - accuracy: 1.0000 - val_loss: 0.4269 - val_accuracy: 0.9020\n",
            "Epoch 23/30\n",
            "100/100 [==============================] - 9s 91ms/step - loss: 0.0013 - accuracy: 1.0000 - val_loss: 0.4856 - val_accuracy: 0.8920\n",
            "Epoch 24/30\n",
            "100/100 [==============================] - 9s 91ms/step - loss: 0.0014 - accuracy: 1.0000 - val_loss: 0.4555 - val_accuracy: 0.9000\n",
            "Epoch 25/30\n",
            "100/100 [==============================] - 9s 92ms/step - loss: 6.3630e-04 - accuracy: 1.0000 - val_loss: 0.4458 - val_accuracy: 0.9030\n",
            "Epoch 26/30\n",
            "100/100 [==============================] - 9s 91ms/step - loss: 9.1319e-04 - accuracy: 1.0000 - val_loss: 0.4895 - val_accuracy: 0.8980\n",
            "Epoch 27/30\n",
            "100/100 [==============================] - 9s 92ms/step - loss: 6.0727e-04 - accuracy: 1.0000 - val_loss: 0.5239 - val_accuracy: 0.8960\n",
            "Epoch 28/30\n",
            "100/100 [==============================] - 9s 92ms/step - loss: 2.8842e-04 - accuracy: 1.0000 - val_loss: 0.5328 - val_accuracy: 0.9020\n",
            "Epoch 29/30\n",
            "100/100 [==============================] - 9s 93ms/step - loss: 2.7863e-04 - accuracy: 1.0000 - val_loss: 0.5305 - val_accuracy: 0.9020\n",
            "Epoch 30/30\n",
            "100/100 [==============================] - 9s 93ms/step - loss: 1.8268e-04 - accuracy: 1.0000 - val_loss: 0.5227 - val_accuracy: 0.9000\n"
          ],
          "name": "stdout"
        }
      ]
    },
    {
      "cell_type": "code",
      "metadata": {
        "id": "KDviqBi-C2aK",
        "colab_type": "code",
        "colab": {}
      },
      "source": [
        "model_four.save('cat_dog_mini_four4.h5')"
      ],
      "execution_count": 0,
      "outputs": []
    },
    {
      "cell_type": "code",
      "metadata": {
        "id": "6Nkz183KuX9y",
        "colab_type": "code",
        "outputId": "b070b0b6-5eec-42c7-ff58-7b517f2be39b",
        "colab": {
          "base_uri": "https://localhost:8080/",
          "height": 545
        }
      },
      "source": [
        "acc_vloss(history4)"
      ],
      "execution_count": 32,
      "outputs": [
        {
          "output_type": "display_data",
          "data": {
            "text/plain": [
              "<Figure size 432x288 with 1 Axes>"
            ],
            "image/png": "[encoded data removed]"
          },
          "metadata": {
            "tags": [],
            "needs_background": "light"
          }
        },
        {
          "output_type": "display_data",
          "data": {
            "text/plain": [
              "<Figure size 432x288 with 1 Axes>"
            ],
            "image/png": "[encoded data removed]"
          },
          "metadata": {
            "tags": [],
            "needs_background": "light"
          }
        }
      ]
    },
    {
      "cell_type": "markdown",
      "metadata": {
        "id": "g5uLQ36MEM8N",
        "colab_type": "text"
      },
      "source": [
        "#Fine-Tuning"
      ]
    },
    {
      "cell_type": "code",
      "metadata": {
        "id": "6dIuqT7yDKmM",
        "colab_type": "code",
        "outputId": "73a6c043-a0ca-44ae-ce12-a7cab338d6e4",
        "colab": {
          "base_uri": "https://localhost:8080/",
          "height": 799
        }
      },
      "source": [
        "#unfreezing some layers\n",
        "convolutional_base.summary()"
      ],
      "execution_count": 33,
      "outputs": [
        {
          "output_type": "stream",
          "text": [
            "Model: \"vgg16\"\n",
            "_________________________________________________________________\n",
            "Layer (type)                 Output Shape              Param #   \n",
            "=================================================================\n",
            "input_1 (InputLayer)         [(None, 150, 150, 3)]     0         \n",
            "_________________________________________________________________\n",
            "block1_conv1 (Conv2D)        (None, 150, 150, 64)      1792      \n",
            "_________________________________________________________________\n",
            "block1_conv2 (Conv2D)        (None, 150, 150, 64)      36928     \n",
            "_________________________________________________________________\n",
            "block1_pool (MaxPooling2D)   (None, 75, 75, 64)        0         \n",
            "_________________________________________________________________\n",
            "block2_conv1 (Conv2D)        (None, 75, 75, 128)       73856     \n",
            "_________________________________________________________________\n",
            "block2_conv2 (Conv2D)        (None, 75, 75, 128)       147584    \n",
            "_________________________________________________________________\n",
            "block2_pool (MaxPooling2D)   (None, 37, 37, 128)       0         \n",
            "_________________________________________________________________\n",
            "block3_conv1 (Conv2D)        (None, 37, 37, 256)       295168    \n",
            "_________________________________________________________________\n",
            "block3_conv2 (Conv2D)        (None, 37, 37, 256)       590080    \n",
            "_________________________________________________________________\n",
            "block3_conv3 (Conv2D)        (None, 37, 37, 256)       590080    \n",
            "_________________________________________________________________\n",
            "block3_pool (MaxPooling2D)   (None, 18, 18, 256)       0         \n",
            "_________________________________________________________________\n",
            "block4_conv1 (Conv2D)        (None, 18, 18, 512)       1180160   \n",
            "_________________________________________________________________\n",
            "block4_conv2 (Conv2D)        (None, 18, 18, 512)       2359808   \n",
            "_________________________________________________________________\n",
            "block4_conv3 (Conv2D)        (None, 18, 18, 512)       2359808   \n",
            "_________________________________________________________________\n",
            "block4_pool (MaxPooling2D)   (None, 9, 9, 512)         0         \n",
            "_________________________________________________________________\n",
            "block5_conv1 (Conv2D)        (None, 9, 9, 512)         2359808   \n",
            "_________________________________________________________________\n",
            "block5_conv2 (Conv2D)        (None, 9, 9, 512)         2359808   \n",
            "_________________________________________________________________\n",
            "block5_conv3 (Conv2D)        (None, 9, 9, 512)         2359808   \n",
            "_________________________________________________________________\n",
            "block5_pool (MaxPooling2D)   (None, 4, 4, 512)         0         \n",
            "=================================================================\n",
            "Total params: 14,714,688\n",
            "Trainable params: 0\n",
            "Non-trainable params: 14,714,688\n",
            "_________________________________________________________________\n"
          ],
          "name": "stdout"
        }
      ]
    },
    {
      "cell_type": "code",
      "metadata": {
        "id": "528qQJAiMhHk",
        "colab_type": "code",
        "colab": {
          "base_uri": "https://localhost:8080/",
          "height": 34
        },
        "outputId": "8df7fcb7-e8d9-47dc-983f-0297d6ee842f"
      },
      "source": [
        "#unfreezing block5_pool & block5_conv1 - 3\n",
        "convolutional_base.trainable = True\n",
        "\n",
        "set_trainable = False \n",
        "\n",
        "for layer in convolutional_base.layers:\n",
        "  if layer.name == 'block5_conv1':\n",
        "    set_trainable = True\n",
        "  if set_trainable:\n",
        "    layer.trainable = True\n",
        "  else:\n",
        "    layer.trainable = False\n",
        "\n",
        "len(convolutional_base.trainable_weights)"
      ],
      "execution_count": 34,
      "outputs": [
        {
          "output_type": "execute_result",
          "data": {
            "text/plain": [
              "10"
            ]
          },
          "metadata": {
            "tags": []
          },
          "execution_count": 34
        }
      ]
    },
    {
      "cell_type": "code",
      "metadata": {
        "id": "THkM7q4Beyue",
        "colab_type": "code",
        "outputId": "34c176a9-4823-4339-a55b-40038eb8fb0d",
        "colab": {
          "base_uri": "https://localhost:8080/",
          "height": 1000
        }
      },
      "source": [
        "RMS = RMSprop(lr=1e-5)\n",
        "model_four.compile(loss = 'binary_crossentropy', optimizer = RMS, metrics = ['accuracy'] )\n",
        "\n",
        "history5 = history(model_four, 100, 100, 50)"
      ],
      "execution_count": 35,
      "outputs": [
        {
          "output_type": "stream",
          "text": [
            "Epoch 1/100\n",
            "100/100 [==============================] - 10s 102ms/step - loss: 2.9860e-04 - accuracy: 1.0000 - val_loss: 0.6317 - val_accuracy: 0.8950\n",
            "Epoch 2/100\n",
            "100/100 [==============================] - 10s 100ms/step - loss: 2.5124e-05 - accuracy: 1.0000 - val_loss: 0.6846 - val_accuracy: 0.9020\n",
            "Epoch 3/100\n",
            "100/100 [==============================] - 10s 100ms/step - loss: 3.4519e-05 - accuracy: 1.0000 - val_loss: 0.7040 - val_accuracy: 0.9050\n",
            "Epoch 4/100\n",
            "100/100 [==============================] - 10s 101ms/step - loss: 1.3733e-05 - accuracy: 1.0000 - val_loss: 0.7111 - val_accuracy: 0.9030\n",
            "Epoch 5/100\n",
            "100/100 [==============================] - 10s 101ms/step - loss: 9.2471e-05 - accuracy: 1.0000 - val_loss: 0.6850 - val_accuracy: 0.9100\n",
            "Epoch 6/100\n",
            "100/100 [==============================] - 10s 101ms/step - loss: 6.2801e-07 - accuracy: 1.0000 - val_loss: 0.7431 - val_accuracy: 0.9040\n",
            "Epoch 7/100\n",
            "100/100 [==============================] - 10s 101ms/step - loss: 1.8174e-06 - accuracy: 1.0000 - val_loss: 0.7476 - val_accuracy: 0.9060\n",
            "Epoch 8/100\n",
            "100/100 [==============================] - 10s 101ms/step - loss: 2.8879e-07 - accuracy: 1.0000 - val_loss: 0.7755 - val_accuracy: 0.9070\n",
            "Epoch 9/100\n",
            "100/100 [==============================] - 10s 103ms/step - loss: 4.3441e-08 - accuracy: 1.0000 - val_loss: 0.8117 - val_accuracy: 0.9060\n",
            "Epoch 10/100\n",
            "100/100 [==============================] - 10s 104ms/step - loss: 1.5483e-08 - accuracy: 1.0000 - val_loss: 0.8137 - val_accuracy: 0.9080\n",
            "Epoch 11/100\n",
            "100/100 [==============================] - 11s 106ms/step - loss: 8.7208e-09 - accuracy: 1.0000 - val_loss: 0.8182 - val_accuracy: 0.9080\n",
            "Epoch 12/100\n",
            "100/100 [==============================] - 11s 106ms/step - loss: 6.5542e-09 - accuracy: 1.0000 - val_loss: 0.8391 - val_accuracy: 0.9060\n",
            "Epoch 13/100\n",
            "100/100 [==============================] - 11s 107ms/step - loss: 5.4443e-09 - accuracy: 1.0000 - val_loss: 0.8435 - val_accuracy: 0.9060\n",
            "Epoch 14/100\n",
            "100/100 [==============================] - 11s 105ms/step - loss: 4.7255e-09 - accuracy: 1.0000 - val_loss: 0.8469 - val_accuracy: 0.9060\n",
            "Epoch 15/100\n",
            "100/100 [==============================] - 11s 105ms/step - loss: 4.2914e-09 - accuracy: 1.0000 - val_loss: 0.8525 - val_accuracy: 0.9070\n",
            "Epoch 16/100\n",
            "100/100 [==============================] - 11s 106ms/step - loss: 3.9776e-09 - accuracy: 1.0000 - val_loss: 0.8529 - val_accuracy: 0.9070\n",
            "Epoch 17/100\n",
            "100/100 [==============================] - 11s 105ms/step - loss: 3.6956e-09 - accuracy: 1.0000 - val_loss: 0.8562 - val_accuracy: 0.9070\n",
            "Epoch 18/100\n",
            "100/100 [==============================] - 11s 105ms/step - loss: 3.5001e-09 - accuracy: 1.0000 - val_loss: 0.8610 - val_accuracy: 0.9070\n",
            "Epoch 19/100\n",
            "100/100 [==============================] - 11s 105ms/step - loss: 3.3619e-09 - accuracy: 1.0000 - val_loss: 0.8604 - val_accuracy: 0.9060\n",
            "Epoch 20/100\n",
            "100/100 [==============================] - 11s 105ms/step - loss: 3.3027e-09 - accuracy: 1.0000 - val_loss: 0.8634 - val_accuracy: 0.9070\n",
            "Epoch 21/100\n",
            "100/100 [==============================] - 11s 106ms/step - loss: 3.1316e-09 - accuracy: 1.0000 - val_loss: 0.8699 - val_accuracy: 0.9070\n",
            "Epoch 22/100\n",
            "100/100 [==============================] - 11s 112ms/step - loss: 3.1673e-09 - accuracy: 1.0000 - val_loss: 0.8683 - val_accuracy: 0.9070\n",
            "Epoch 23/100\n",
            "100/100 [==============================] - 11s 111ms/step - loss: 3.1273e-09 - accuracy: 1.0000 - val_loss: 0.8737 - val_accuracy: 0.9080\n",
            "Epoch 24/100\n",
            "100/100 [==============================] - 11s 108ms/step - loss: 3.0313e-09 - accuracy: 1.0000 - val_loss: 0.8731 - val_accuracy: 0.9080\n",
            "Epoch 25/100\n",
            "100/100 [==============================] - 11s 108ms/step - loss: 2.9647e-09 - accuracy: 1.0000 - val_loss: 0.8730 - val_accuracy: 0.9080\n",
            "Epoch 26/100\n",
            "100/100 [==============================] - 11s 110ms/step - loss: 2.9336e-09 - accuracy: 1.0000 - val_loss: 0.8777 - val_accuracy: 0.9080\n",
            "Epoch 27/100\n",
            "100/100 [==============================] - 11s 109ms/step - loss: 2.9199e-09 - accuracy: 1.0000 - val_loss: 0.8770 - val_accuracy: 0.9080\n",
            "Epoch 28/100\n",
            "100/100 [==============================] - 11s 106ms/step - loss: 2.8625e-09 - accuracy: 1.0000 - val_loss: 0.8856 - val_accuracy: 0.9070\n",
            "Epoch 29/100\n",
            "100/100 [==============================] - 11s 109ms/step - loss: 2.8901e-09 - accuracy: 1.0000 - val_loss: 0.8882 - val_accuracy: 0.9070\n",
            "Epoch 30/100\n",
            "100/100 [==============================] - 11s 109ms/step - loss: 2.9446e-09 - accuracy: 1.0000 - val_loss: 0.8899 - val_accuracy: 0.9070\n",
            "Epoch 31/100\n",
            "100/100 [==============================] - 11s 111ms/step - loss: 2.8969e-09 - accuracy: 1.0000 - val_loss: 0.8947 - val_accuracy: 0.9060\n",
            "Epoch 32/100\n",
            "100/100 [==============================] - 11s 110ms/step - loss: 2.8317e-09 - accuracy: 1.0000 - val_loss: 0.8907 - val_accuracy: 0.9070\n",
            "Epoch 33/100\n",
            "100/100 [==============================] - 12s 115ms/step - loss: 2.7869e-09 - accuracy: 1.0000 - val_loss: 0.8980 - val_accuracy: 0.9060\n",
            "Epoch 34/100\n",
            "100/100 [==============================] - 12s 117ms/step - loss: 2.7700e-09 - accuracy: 1.0000 - val_loss: 0.8915 - val_accuracy: 0.9070\n",
            "Epoch 35/100\n",
            "100/100 [==============================] - 11s 106ms/step - loss: 2.8291e-09 - accuracy: 1.0000 - val_loss: 0.8974 - val_accuracy: 0.9060\n",
            "Epoch 36/100\n",
            "100/100 [==============================] - 11s 112ms/step - loss: 2.8254e-09 - accuracy: 1.0000 - val_loss: 0.8992 - val_accuracy: 0.9060\n",
            "Epoch 37/100\n",
            "100/100 [==============================] - 11s 106ms/step - loss: 2.8517e-09 - accuracy: 1.0000 - val_loss: 0.8988 - val_accuracy: 0.9060\n",
            "Epoch 38/100\n",
            "100/100 [==============================] - 11s 106ms/step - loss: 2.7845e-09 - accuracy: 1.0000 - val_loss: 0.8999 - val_accuracy: 0.9060\n",
            "Epoch 39/100\n",
            "100/100 [==============================] - 11s 108ms/step - loss: 2.8037e-09 - accuracy: 1.0000 - val_loss: 0.9017 - val_accuracy: 0.9060\n",
            "Epoch 40/100\n",
            "100/100 [==============================] - 11s 107ms/step - loss: 2.7682e-09 - accuracy: 1.0000 - val_loss: 0.9040 - val_accuracy: 0.9060\n",
            "Epoch 41/100\n",
            "100/100 [==============================] - 11s 105ms/step - loss: 2.7310e-09 - accuracy: 1.0000 - val_loss: 0.9066 - val_accuracy: 0.9070\n",
            "Epoch 42/100\n",
            "100/100 [==============================] - 11s 105ms/step - loss: 2.8238e-09 - accuracy: 1.0000 - val_loss: 0.9013 - val_accuracy: 0.9060\n",
            "Epoch 43/100\n",
            "100/100 [==============================] - 11s 105ms/step - loss: 2.7502e-09 - accuracy: 1.0000 - val_loss: 0.9071 - val_accuracy: 0.9070\n",
            "Epoch 44/100\n",
            "100/100 [==============================] - 11s 105ms/step - loss: 2.7532e-09 - accuracy: 1.0000 - val_loss: 0.9077 - val_accuracy: 0.9070\n",
            "Epoch 45/100\n",
            "100/100 [==============================] - 11s 106ms/step - loss: 2.6714e-09 - accuracy: 1.0000 - val_loss: 0.9044 - val_accuracy: 0.9060\n",
            "Epoch 46/100\n",
            "100/100 [==============================] - 11s 105ms/step - loss: 2.7751e-09 - accuracy: 1.0000 - val_loss: 0.9074 - val_accuracy: 0.9070\n",
            "Epoch 47/100\n",
            "100/100 [==============================] - 11s 106ms/step - loss: 2.7738e-09 - accuracy: 1.0000 - val_loss: 0.9118 - val_accuracy: 0.9080\n",
            "Epoch 48/100\n",
            "100/100 [==============================] - 11s 106ms/step - loss: 2.6629e-09 - accuracy: 1.0000 - val_loss: 0.9090 - val_accuracy: 0.9080\n",
            "Epoch 49/100\n",
            "100/100 [==============================] - 11s 108ms/step - loss: 2.7634e-09 - accuracy: 1.0000 - val_loss: 0.9121 - val_accuracy: 0.9080\n",
            "Epoch 50/100\n",
            "100/100 [==============================] - 11s 111ms/step - loss: 2.7272e-09 - accuracy: 1.0000 - val_loss: 0.9135 - val_accuracy: 0.9080\n",
            "Epoch 51/100\n",
            "100/100 [==============================] - 11s 108ms/step - loss: 2.6573e-09 - accuracy: 1.0000 - val_loss: 0.9106 - val_accuracy: 0.9070\n",
            "Epoch 52/100\n",
            "100/100 [==============================] - 12s 122ms/step - loss: 2.7387e-09 - accuracy: 1.0000 - val_loss: 0.9117 - val_accuracy: 0.9070\n",
            "Epoch 53/100\n",
            "100/100 [==============================] - 11s 108ms/step - loss: 2.8279e-09 - accuracy: 1.0000 - val_loss: 0.9171 - val_accuracy: 0.9080\n",
            "Epoch 54/100\n",
            "100/100 [==============================] - 11s 108ms/step - loss: 2.7870e-09 - accuracy: 1.0000 - val_loss: 0.9197 - val_accuracy: 0.9080\n",
            "Epoch 55/100\n",
            "100/100 [==============================] - 11s 105ms/step - loss: 2.7511e-09 - accuracy: 1.0000 - val_loss: 0.9159 - val_accuracy: 0.9070\n",
            "Epoch 56/100\n",
            "100/100 [==============================] - 11s 106ms/step - loss: 2.6690e-09 - accuracy: 1.0000 - val_loss: 0.9200 - val_accuracy: 0.9070\n",
            "Epoch 57/100\n",
            "100/100 [==============================] - 11s 106ms/step - loss: 2.7560e-09 - accuracy: 1.0000 - val_loss: 0.9196 - val_accuracy: 0.9060\n",
            "Epoch 58/100\n",
            "100/100 [==============================] - 11s 105ms/step - loss: 2.7726e-09 - accuracy: 1.0000 - val_loss: 0.9168 - val_accuracy: 0.9070\n",
            "Epoch 59/100\n",
            "100/100 [==============================] - 11s 106ms/step - loss: 2.6920e-09 - accuracy: 1.0000 - val_loss: 0.9220 - val_accuracy: 0.9070\n",
            "Epoch 60/100\n",
            "100/100 [==============================] - 11s 107ms/step - loss: 2.6034e-09 - accuracy: 1.0000 - val_loss: 0.9214 - val_accuracy: 0.9080\n",
            "Epoch 61/100\n",
            "100/100 [==============================] - 11s 106ms/step - loss: 2.6523e-09 - accuracy: 1.0000 - val_loss: 0.9227 - val_accuracy: 0.9070\n",
            "Epoch 62/100\n",
            "100/100 [==============================] - 11s 108ms/step - loss: 2.7401e-09 - accuracy: 1.0000 - val_loss: 0.9212 - val_accuracy: 0.9080\n",
            "Epoch 63/100\n",
            "100/100 [==============================] - 11s 106ms/step - loss: 2.7110e-09 - accuracy: 1.0000 - val_loss: 0.9233 - val_accuracy: 0.9070\n",
            "Epoch 64/100\n",
            "100/100 [==============================] - 11s 106ms/step - loss: 2.7129e-09 - accuracy: 1.0000 - val_loss: 0.9233 - val_accuracy: 0.9080\n",
            "Epoch 65/100\n",
            "100/100 [==============================] - 11s 106ms/step - loss: 2.6743e-09 - accuracy: 1.0000 - val_loss: 0.9245 - val_accuracy: 0.9080\n",
            "Epoch 66/100\n",
            "100/100 [==============================] - 11s 107ms/step - loss: 2.6521e-09 - accuracy: 1.0000 - val_loss: 0.9238 - val_accuracy: 0.9080\n",
            "Epoch 67/100\n",
            "100/100 [==============================] - 11s 106ms/step - loss: 2.7186e-09 - accuracy: 1.0000 - val_loss: 0.9233 - val_accuracy: 0.9080\n",
            "Epoch 68/100\n",
            "100/100 [==============================] - 11s 105ms/step - loss: 2.6854e-09 - accuracy: 1.0000 - val_loss: 0.9265 - val_accuracy: 0.9080\n",
            "Epoch 69/100\n",
            "100/100 [==============================] - 11s 106ms/step - loss: 2.6349e-09 - accuracy: 1.0000 - val_loss: 0.9276 - val_accuracy: 0.9080\n",
            "Epoch 70/100\n",
            "100/100 [==============================] - 11s 107ms/step - loss: 2.7026e-09 - accuracy: 1.0000 - val_loss: 0.9291 - val_accuracy: 0.9070\n",
            "Epoch 71/100\n",
            "100/100 [==============================] - 11s 106ms/step - loss: 2.6371e-09 - accuracy: 1.0000 - val_loss: 0.9275 - val_accuracy: 0.9080\n",
            "Epoch 72/100\n",
            "100/100 [==============================] - 11s 107ms/step - loss: 2.7031e-09 - accuracy: 1.0000 - val_loss: 0.9275 - val_accuracy: 0.9070\n",
            "Epoch 73/100\n",
            "100/100 [==============================] - 11s 106ms/step - loss: 2.6153e-09 - accuracy: 1.0000 - val_loss: 0.9262 - val_accuracy: 0.9080\n",
            "Epoch 74/100\n",
            "100/100 [==============================] - 11s 105ms/step - loss: 2.6872e-09 - accuracy: 1.0000 - val_loss: 0.9287 - val_accuracy: 0.9080\n",
            "Epoch 75/100\n",
            "100/100 [==============================] - 11s 106ms/step - loss: 2.7023e-09 - accuracy: 1.0000 - val_loss: 0.9298 - val_accuracy: 0.9070\n",
            "Epoch 76/100\n",
            "100/100 [==============================] - 11s 106ms/step - loss: 2.7351e-09 - accuracy: 1.0000 - val_loss: 0.9294 - val_accuracy: 0.9070\n",
            "Epoch 77/100\n",
            "100/100 [==============================] - 11s 105ms/step - loss: 2.6700e-09 - accuracy: 1.0000 - val_loss: 0.9304 - val_accuracy: 0.9070\n",
            "Epoch 78/100\n",
            "100/100 [==============================] - 11s 106ms/step - loss: 2.6998e-09 - accuracy: 1.0000 - val_loss: 0.9277 - val_accuracy: 0.9080\n",
            "Epoch 79/100\n",
            "100/100 [==============================] - 11s 106ms/step - loss: 2.6196e-09 - accuracy: 1.0000 - val_loss: 0.9334 - val_accuracy: 0.9070\n",
            "Epoch 80/100\n",
            "100/100 [==============================] - 11s 106ms/step - loss: 2.6865e-09 - accuracy: 1.0000 - val_loss: 0.9265 - val_accuracy: 0.9080\n",
            "Epoch 81/100\n",
            "100/100 [==============================] - 11s 105ms/step - loss: 2.6097e-09 - accuracy: 1.0000 - val_loss: 0.9329 - val_accuracy: 0.9080\n",
            "Epoch 82/100\n",
            "100/100 [==============================] - 11s 106ms/step - loss: 2.7681e-09 - accuracy: 1.0000 - val_loss: 0.9340 - val_accuracy: 0.9080\n",
            "Epoch 83/100\n",
            "100/100 [==============================] - 10s 105ms/step - loss: 2.6975e-09 - accuracy: 1.0000 - val_loss: 0.9340 - val_accuracy: 0.9070\n",
            "Epoch 84/100\n",
            "100/100 [==============================] - 11s 107ms/step - loss: 2.6493e-09 - accuracy: 1.0000 - val_loss: 0.9352 - val_accuracy: 0.9080\n",
            "Epoch 85/100\n",
            "100/100 [==============================] - 11s 106ms/step - loss: 2.7376e-09 - accuracy: 1.0000 - val_loss: 0.9335 - val_accuracy: 0.9070\n",
            "Epoch 86/100\n",
            "100/100 [==============================] - 10s 105ms/step - loss: 2.6826e-09 - accuracy: 1.0000 - val_loss: 0.9332 - val_accuracy: 0.9070\n",
            "Epoch 87/100\n",
            "100/100 [==============================] - 11s 106ms/step - loss: 2.6503e-09 - accuracy: 1.0000 - val_loss: 0.9363 - val_accuracy: 0.9080\n",
            "Epoch 88/100\n",
            "100/100 [==============================] - 11s 107ms/step - loss: 2.6841e-09 - accuracy: 1.0000 - val_loss: 0.9330 - val_accuracy: 0.9070\n",
            "Epoch 89/100\n",
            "100/100 [==============================] - 11s 105ms/step - loss: 2.4560e-09 - accuracy: 1.0000 - val_loss: 0.9352 - val_accuracy: 0.9080\n",
            "Epoch 90/100\n",
            "100/100 [==============================] - 11s 106ms/step - loss: 2.7387e-09 - accuracy: 1.0000 - val_loss: 0.9404 - val_accuracy: 0.9080\n",
            "Epoch 91/100\n",
            "100/100 [==============================] - 11s 106ms/step - loss: 2.7005e-09 - accuracy: 1.0000 - val_loss: 0.9404 - val_accuracy: 0.9080\n",
            "Epoch 92/100\n",
            "100/100 [==============================] - 11s 106ms/step - loss: 2.7944e-09 - accuracy: 1.0000 - val_loss: 0.9423 - val_accuracy: 0.9080\n",
            "Epoch 93/100\n",
            "100/100 [==============================] - 11s 106ms/step - loss: 2.6760e-09 - accuracy: 1.0000 - val_loss: 0.9394 - val_accuracy: 0.9080\n",
            "Epoch 94/100\n",
            "100/100 [==============================] - 11s 105ms/step - loss: 2.5821e-09 - accuracy: 1.0000 - val_loss: 0.9386 - val_accuracy: 0.9080\n",
            "Epoch 95/100\n",
            "100/100 [==============================] - 11s 105ms/step - loss: 2.6483e-09 - accuracy: 1.0000 - val_loss: 0.9405 - val_accuracy: 0.9080\n",
            "Epoch 96/100\n",
            "100/100 [==============================] - 11s 106ms/step - loss: 2.7110e-09 - accuracy: 1.0000 - val_loss: 0.9392 - val_accuracy: 0.9080\n",
            "Epoch 97/100\n",
            "100/100 [==============================] - 11s 106ms/step - loss: 2.6825e-09 - accuracy: 1.0000 - val_loss: 0.9407 - val_accuracy: 0.9080\n",
            "Epoch 98/100\n",
            "100/100 [==============================] - 11s 105ms/step - loss: 2.7213e-09 - accuracy: 1.0000 - val_loss: 0.9390 - val_accuracy: 0.9080\n",
            "Epoch 99/100\n",
            "100/100 [==============================] - 11s 106ms/step - loss: 2.6278e-09 - accuracy: 1.0000 - val_loss: 0.9355 - val_accuracy: 0.9070\n",
            "Epoch 100/100\n",
            "100/100 [==============================] - 11s 106ms/step - loss: 2.6732e-09 - accuracy: 1.0000 - val_loss: 0.9441 - val_accuracy: 0.9080\n"
          ],
          "name": "stdout"
        }
      ]
    },
    {
      "cell_type": "code",
      "metadata": {
        "id": "_fGwkE6IEgn-",
        "colab_type": "code",
        "colab": {
          "base_uri": "https://localhost:8080/",
          "height": 545
        },
        "outputId": "b19f54b8-d26e-43dd-e987-93e43e234fa2"
      },
      "source": [
        "acc_vloss(history5)"
      ],
      "execution_count": 36,
      "outputs": [
        {
          "output_type": "display_data",
          "data": {
            "text/plain": [
              "<Figure size 432x288 with 1 Axes>"
            ],
            "image/png": "[encoded data removed]"
          },
          "metadata": {
            "tags": [],
            "needs_background": "light"
          }
        },
        {
          "output_type": "display_data",
          "data": {
            "text/plain": [
              "<Figure size 432x288 with 1 Axes>"
            ],
            "image/png": "[encoded data removed]"
          },
          "metadata": {
            "tags": [],
            "needs_background": "light"
          }
        }
      ]
    },
    {
      "cell_type": "code",
      "metadata": {
        "id": "Pp03eAe9hxCw",
        "colab_type": "code",
        "colab": {
          "base_uri": "https://localhost:8080/",
          "height": 68
        },
        "outputId": "9c8bf2d8-4283-4ea9-d098-438f0080f2ca"
      },
      "source": [
        "#evaluating the final model\n",
        "def create_test_generator(batch_size = int, target_size = (int, int), class_mode = 'binary'):\n",
        "  test_generator = test_datagen.flow_from_directory(\n",
        "  test_dir,\n",
        "  target_size=(150, 150),\n",
        "  batch_size=20,\n",
        "  class_mode='binary')\n",
        "  return test_generator\n",
        "  \n",
        "test_loss, test_accuracy = model_four.evaluate(create_test_generator(20, (150, 150), 'binary'), steps = 50)\n",
        "print('test acc:', test_accuracy)"
      ],
      "execution_count": 42,
      "outputs": [
        {
          "output_type": "stream",
          "text": [
            "Found 1000 images belonging to 2 classes.\n",
            "50/50 [==============================] - 3s 58ms/step - loss: 0.8862 - accuracy: 0.9020\n",
            "test acc: 0.9020000100135803\n"
          ],
          "name": "stdout"
        }
      ]
    },
    {
      "cell_type": "code",
      "metadata": {
        "id": "voZPo_NZlA7H",
        "colab_type": "code",
        "colab": {}
      },
      "source": [
        "model_four.save('cat_dog_cnn_final_model5.h5')"
      ],
      "execution_count": 0,
      "outputs": []
    },
    {
      "cell_type": "code",
      "metadata": {
        "id": "Afwxy_6e44eO",
        "colab_type": "code",
        "colab": {
          "base_uri": "https://localhost:8080/",
          "height": 289
        },
        "outputId": "281458e5-801d-4317-c23c-83bbe211e193"
      },
      "source": [
        "model_four.summary()"
      ],
      "execution_count": 44,
      "outputs": [
        {
          "output_type": "stream",
          "text": [
            "Model: \"sequential_3\"\n",
            "_________________________________________________________________\n",
            "Layer (type)                 Output Shape              Param #   \n",
            "=================================================================\n",
            "vgg16 (Model)                (None, 4, 4, 512)         14714688  \n",
            "_________________________________________________________________\n",
            "flatten_3 (Flatten)          (None, 8192)              0         \n",
            "_________________________________________________________________\n",
            "dense_6 (Dense)              (None, 256)               2097408   \n",
            "_________________________________________________________________\n",
            "dense_7 (Dense)              (None, 1)                 257       \n",
            "=================================================================\n",
            "Total params: 16,812,353\n",
            "Trainable params: 9,177,089\n",
            "Non-trainable params: 7,635,264\n",
            "_________________________________________________________________\n"
          ],
          "name": "stdout"
        }
      ]
    },
    {
      "cell_type": "code",
      "metadata": {
        "id": "l1LNNUMSf2dx",
        "colab_type": "code",
        "colab": {}
      },
      "source": [
        ""
      ],
      "execution_count": 0,
      "outputs": []
    }
  ]
}