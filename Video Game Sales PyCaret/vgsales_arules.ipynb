{
 "cells": [
  {
   "cell_type": "code",
   "execution_count": 16,
   "metadata": {},
   "outputs": [],
   "source": [
    "import numpy as np \n",
    "import pandas as pd\n",
    "import matplotlib.pyplot as plt\n",
    "from sklearn.preprocessing import OneHotEncoder, OrdinalEncoder, Normalizer\n",
    "from pycaret.arules import *"
   ]
  },
  {
   "cell_type": "code",
   "execution_count": 17,
   "metadata": {},
   "outputs": [
    {
     "output_type": "execute_result",
     "data": {
      "text/plain": "   Rank                      Name Platform    Year         Genre Publisher  \\\n0     1                Wii Sports      Wii  2006.0        Sports  Nintendo   \n1     2         Super Mario Bros.      NES  1985.0      Platform  Nintendo   \n2     3            Mario Kart Wii      Wii  2008.0        Racing  Nintendo   \n3     4         Wii Sports Resort      Wii  2009.0        Sports  Nintendo   \n4     5  Pokemon Red/Pokemon Blue       GB  1996.0  Role-Playing  Nintendo   \n\n   NA_Sales  EU_Sales  JP_Sales  Other_Sales  Global_Sales  \n0     41.49     29.02      3.77         8.46         82.74  \n1     29.08      3.58      6.81         0.77         40.24  \n2     15.85     12.88      3.79         3.31         35.82  \n3     15.75     11.01      3.28         2.96         33.00  \n4     11.27      8.89     10.22         1.00         31.37  ",
      "text/html": "<div>\n<style scoped>\n    .dataframe tbody tr th:only-of-type {\n        vertical-align: middle;\n    }\n\n    .dataframe tbody tr th {\n        vertical-align: top;\n    }\n\n    .dataframe thead th {\n        text-align: right;\n    }\n</style>\n<table border=\"1\" class=\"dataframe\">\n  <thead>\n    <tr style=\"text-align: right;\">\n      <th></th>\n      <th>Rank</th>\n      <th>Name</th>\n      <th>Platform</th>\n      <th>Year</th>\n      <th>Genre</th>\n      <th>Publisher</th>\n      <th>NA_Sales</th>\n      <th>EU_Sales</th>\n      <th>JP_Sales</th>\n      <th>Other_Sales</th>\n      <th>Global_Sales</th>\n    </tr>\n  </thead>\n  <tbody>\n    <tr>\n      <th>0</th>\n      <td>1</td>\n      <td>Wii Sports</td>\n      <td>Wii</td>\n      <td>2006.0</td>\n      <td>Sports</td>\n      <td>Nintendo</td>\n      <td>41.49</td>\n      <td>29.02</td>\n      <td>3.77</td>\n      <td>8.46</td>\n      <td>82.74</td>\n    </tr>\n    <tr>\n      <th>1</th>\n      <td>2</td>\n      <td>Super Mario Bros.</td>\n      <td>NES</td>\n      <td>1985.0</td>\n      <td>Platform</td>\n      <td>Nintendo</td>\n      <td>29.08</td>\n      <td>3.58</td>\n      <td>6.81</td>\n      <td>0.77</td>\n      <td>40.24</td>\n    </tr>\n    <tr>\n      <th>2</th>\n      <td>3</td>\n      <td>Mario Kart Wii</td>\n      <td>Wii</td>\n      <td>2008.0</td>\n      <td>Racing</td>\n      <td>Nintendo</td>\n      <td>15.85</td>\n      <td>12.88</td>\n      <td>3.79</td>\n      <td>3.31</td>\n      <td>35.82</td>\n    </tr>\n    <tr>\n      <th>3</th>\n      <td>4</td>\n      <td>Wii Sports Resort</td>\n      <td>Wii</td>\n      <td>2009.0</td>\n      <td>Sports</td>\n      <td>Nintendo</td>\n      <td>15.75</td>\n      <td>11.01</td>\n      <td>3.28</td>\n      <td>2.96</td>\n      <td>33.00</td>\n    </tr>\n    <tr>\n      <th>4</th>\n      <td>5</td>\n      <td>Pokemon Red/Pokemon Blue</td>\n      <td>GB</td>\n      <td>1996.0</td>\n      <td>Role-Playing</td>\n      <td>Nintendo</td>\n      <td>11.27</td>\n      <td>8.89</td>\n      <td>10.22</td>\n      <td>1.00</td>\n      <td>31.37</td>\n    </tr>\n  </tbody>\n</table>\n</div>"
     },
     "metadata": {},
     "execution_count": 17
    }
   ],
   "source": [
    "sales = pd.read_csv('C:/Users/tnort/Documents/Datasets/vgsales.csv')\n",
    "sales.head()"
   ]
  },
  {
   "cell_type": "code",
   "execution_count": 18,
   "metadata": {},
   "outputs": [
    {
     "output_type": "display_data",
     "data": {
      "text/plain": "<pandas.io.formats.style.Styler at 0x11e5c650848>",
      "text/html": "<style  type=\"text/css\" >\n</style><table id=\"T_5b2e6c34_9f94_11ea_9e72_5cf370803472\" ><thead>    <tr>        <th class=\"col_heading level0 col0\" >Description</th>        <th class=\"col_heading level0 col1\" >Value</th>    </tr></thead><tbody>\n                <tr>\n                                <td id=\"T_5b2e6c34_9f94_11ea_9e72_5cf370803472row0_col0\" class=\"data row0 col0\" >session_id</td>\n                        <td id=\"T_5b2e6c34_9f94_11ea_9e72_5cf370803472row0_col1\" class=\"data row0 col1\" >1268</td>\n            </tr>\n            <tr>\n                                <td id=\"T_5b2e6c34_9f94_11ea_9e72_5cf370803472row1_col0\" class=\"data row1 col0\" ># Transactions</td>\n                        <td id=\"T_5b2e6c34_9f94_11ea_9e72_5cf370803472row1_col1\" class=\"data row1 col1\" >16598</td>\n            </tr>\n            <tr>\n                                <td id=\"T_5b2e6c34_9f94_11ea_9e72_5cf370803472row2_col0\" class=\"data row2 col0\" ># Items</td>\n                        <td id=\"T_5b2e6c34_9f94_11ea_9e72_5cf370803472row2_col1\" class=\"data row2 col1\" >11493</td>\n            </tr>\n            <tr>\n                                <td id=\"T_5b2e6c34_9f94_11ea_9e72_5cf370803472row3_col0\" class=\"data row3 col0\" >Ignore Items</td>\n                        <td id=\"T_5b2e6c34_9f94_11ea_9e72_5cf370803472row3_col1\" class=\"data row3 col1\" >None</td>\n            </tr>\n    </tbody></table>"
     },
     "metadata": {}
    }
   ],
   "source": [
    "sales = setup(data = sales, transaction_id = 'Rank', item_id = 'Name')"
   ]
  },
  {
   "cell_type": "code",
   "execution_count": 19,
   "metadata": {},
   "outputs": [
    {
     "output_type": "error",
     "ename": "TypeError",
     "evalue": "create_model() got multiple values for argument 'metric'",
     "traceback": [
      "\u001b[1;31m---------------------------------------------------------------------------\u001b[0m",
      "\u001b[1;31mTypeError\u001b[0m                                 Traceback (most recent call last)",
      "\u001b[1;32m<ipython-input-19-7a8fa5e0da3c>\u001b[0m in \u001b[0;36m<module>\u001b[1;34m\u001b[0m\n\u001b[1;32m----> 1\u001b[1;33m \u001b[0marules\u001b[0m \u001b[1;33m=\u001b[0m \u001b[0mcreate_model\u001b[0m\u001b[1;33m(\u001b[0m\u001b[1;34m'arules'\u001b[0m\u001b[1;33m,\u001b[0m \u001b[0mmetric\u001b[0m \u001b[1;33m=\u001b[0m \u001b[1;34m'confidence'\u001b[0m\u001b[1;33m)\u001b[0m\u001b[1;33m\u001b[0m\u001b[1;33m\u001b[0m\u001b[0m\n\u001b[0m",
      "\u001b[1;31mTypeError\u001b[0m: create_model() got multiple values for argument 'metric'"
     ]
    }
   ],
   "source": [
    "arules = create_model(metric = 'confidence')"
   ]
  },
  {
   "cell_type": "code",
   "execution_count": 20,
   "metadata": {},
   "outputs": [
    {
     "output_type": "error",
     "ename": "NameError",
     "evalue": "name 'arules' is not defined",
     "traceback": [
      "\u001b[1;31m---------------------------------------------------------------------------\u001b[0m",
      "\u001b[1;31mNameError\u001b[0m                                 Traceback (most recent call last)",
      "\u001b[1;32m<ipython-input-20-73153902cf90>\u001b[0m in \u001b[0;36m<module>\u001b[1;34m\u001b[0m\n\u001b[1;32m----> 1\u001b[1;33m \u001b[0mplot_model\u001b[0m\u001b[1;33m(\u001b[0m\u001b[0marules\u001b[0m\u001b[1;33m,\u001b[0m \u001b[0mplot\u001b[0m \u001b[1;33m=\u001b[0m \u001b[1;34m'3d'\u001b[0m\u001b[1;33m)\u001b[0m\u001b[1;33m\u001b[0m\u001b[1;33m\u001b[0m\u001b[0m\n\u001b[0m",
      "\u001b[1;31mNameError\u001b[0m: name 'arules' is not defined"
     ]
    }
   ],
   "source": [
    "plot_model(arules, plot = '3d')"
   ]
  }
 ],
 "metadata": {
  "language_info": {
   "codemirror_mode": {
    "name": "ipython",
    "version": 3
   },
   "file_extension": ".py",
   "mimetype": "text/x-python",
   "name": "python",
   "nbconvert_exporter": "python",
   "pygments_lexer": "ipython3",
   "version": "3.7.6-final"
  },
  "orig_nbformat": 2,
  "kernelspec": {
   "name": "python3",
   "display_name": "Python 3"
  }
 },
 "nbformat": 4,
 "nbformat_minor": 2
}